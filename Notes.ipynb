{
 "cells": [
  {
   "cell_type": "code",
   "execution_count": 1,
   "id": "143a36e3-f0bf-4e1e-ad46-fd5c8e8bd977",
   "metadata": {
    "tags": []
   },
   "outputs": [],
   "source": [
    "import numpy as np\n",
    "import nnfs\n",
    "from nnfs.datasets import spiral_data\n",
    "\n",
    "# sets random seed to 0\n",
    "# Sets dtype default to float32\n",
    "# overrides np.dot()\n",
    "# nnfs.init()\n",
    "\n",
    "import matplotlib.pyplot as plt\n",
    "import math"
   ]
  },
  {
   "cell_type": "markdown",
   "id": "010c335d-3113-4693-a84b-a56a64d2562d",
   "metadata": {},
   "source": [
    "# Notes on Neural Networks from Scratch"
   ]
  },
  {
   "cell_type": "markdown",
   "id": "c89a73fd-ba14-472a-be27-c93eb0cd1d9e",
   "metadata": {
    "toc-hr-collapsed": true
   },
   "source": [
    "## Data\n",
    "### Feature \n",
    "- A single measurable property of a phenomena that can be used for predictions or classifications.\n",
    "- Usually Numeric. Features usually must be converted/encoded to numeric values to be used with ML algorithms.\n",
    "- Can sometimes be combined to create new features. \n",
    "- Should be informative and relevant to the task.\n",
    "- Deep neural networks are able to learn complex relationships between features, including interactions and non-linear relationships. Thus eliminating the need for manual feature engineering.\n",
    "### Preprocessing Data - Adjusting feature data to be suitable for an algorithm.\n",
    "- Encoding\n",
    "- Normalization\n",
    "- Scaling\n",
    "### Feature Set \n",
    "- Group of features. \n",
    "- Represented as vectors.\n",
    "### Sample \n",
    "- An instance of a feature set. One \"Row\", one observation.\n",
    "### Batch \n",
    "- Group of samples.\n",
    "- Seperated used to train with parallel processing.\n",
    "- Batching helps prevent overfitting. See [this](https://nnfs.io/vyu/) animation\n",
    "### In-Sample Data \n",
    "- Training Data\n",
    "### Out-Of-Sample Data \n",
    "- Testing/Validation Data\n",
    "### Generalization \n",
    "- \"Generalizing\" the model to work well on never before seen input. \n",
    "### Overfitting \n",
    "- When a model \"memorizes\" a dataset and looks for \"too-specific\" features \n",
    "### Training \n",
    "- Slowly adjusting the weights/biases of a model to obtain the desired output.\n",
    "### Tabular Data \n",
    "- Features can be given in any order, data in a table.\n",
    "### Forward Pass \n",
    "- When we pass data through a model from beginning to end."
   ]
  },
  {
   "cell_type": "markdown",
   "id": "e75b5aed-0266-4a5d-8385-2baa1bc15232",
   "metadata": {
    "toc-hr-collapsed": true
   },
   "source": [
    "## Model Types\n",
    "### Classification \n",
    "- Predict discrete labels/targets\n",
    "- Binary Classification: Predicts one of two targets\n",
    "- Multiclass Classification: Predicts one of 3+ targets\n",
    "### Regression \n",
    "- Predict numeric values   \n",
    "- Multivariate Regression: Predicts multiple numeric values"
   ]
  },
  {
   "cell_type": "markdown",
   "id": "11e1cfdb-f8fd-4d0c-a1ae-60436ecbc078",
   "metadata": {},
   "source": [
    "## Layers\n",
    "### Input Layer \n",
    "- Actual input data, typically preprocessed.\n",
    "### Output Layer \n",
    "- What the neural network returns\n",
    "- Often has as many neurons as the training dataset has classes.\n",
    "### Hidden Layer \n",
    "-"
   ]
  },
  {
   "cell_type": "markdown",
   "id": "d894aa5b-3d0a-437f-8bd3-e9227c416473",
   "metadata": {
    "tags": []
   },
   "source": [
    "## Linear Combination\n",
    "### Equation: \n",
    "* ```Input * Weight + Bias = Output```\n",
    "* Inputs * Weights (Connections) + bias (per neuron)\n",
    "### Weight \n",
    "- A trainable factor of how much of the input to use. \n",
    "- Multiplied by the input value to determine how much of that input signal contributes to the output.\n",
    "- Present in each *connection* between neurons.\n",
    "- Weights are initially random, then are adjusted based on how far the actual output is from the desired output.\n",
    "    - In the case of pretrained models weights are initialized with whatever the pretrained model finished with.\n",
    "- Each connection in a neural network has a unique weight.\n",
    "- Weights can be positive or negative.\n",
    "- After all input * weight values are taken they are summed and added to the bias.\n",
    "### Bias \n",
    "- A constant added to the weighted sum of inputs which changes a neuron's activation threshold.\n",
    "- Present in each neuron itself.\n",
    "- Allows control of neuron activation threshold independent of the input values.\n",
    "- Higher bias needs stronger signal for neuron to fire, lower bias means it will fire at a weaker signal\n",
    "- Initially random/0, then are adjusted based on how far the actual output is from the desired output."
   ]
  },
  {
   "cell_type": "code",
   "execution_count": 2,
   "id": "24e06075-15f3-4f8d-b115-43c281749b42",
   "metadata": {
    "tags": []
   },
   "outputs": [
    {
     "data": {
      "text/plain": [
       "4.8"
      ]
     },
     "execution_count": 2,
     "metadata": {},
     "output_type": "execute_result"
    }
   ],
   "source": [
    "# Example Inputs\n",
    "inputs_vector = [1.0, 2.0, 3.0, 2.5]\n",
    "\n",
    "# Random Weights\n",
    "weights_vector = [0.2, 0.8, -0.5, 1.0]\n",
    "\n",
    "# Random Bias\n",
    "bias = 2.0\n",
    "\n",
    "# Get output for inputs to a single neuron\n",
    "def single_neuron_output(inputs, weights, bias):\n",
    "    # sum of inputs * weight\n",
    "    weighted_sum = sum(inputs[i] * weights[i] for i in range(len(inputs)))\n",
    "    # add bias\n",
    "    output = weighted_sum + bias\n",
    "    return output\n",
    "    \n",
    "single_neuron_output(inputs_vector, weights_vector, bias)"
   ]
  },
  {
   "cell_type": "code",
   "execution_count": 3,
   "id": "9063f75f-79c1-4af9-82df-e63bde5fd6cd",
   "metadata": {
    "tags": []
   },
   "outputs": [
    {
     "data": {
      "text/plain": [
       "[4.8, 1.21, 2.385]"
      ]
     },
     "execution_count": 3,
     "metadata": {},
     "output_type": "execute_result"
    }
   ],
   "source": [
    "inputs_vector = [1.0, 2.0, 3.0, 2.5]\n",
    "\n",
    "# Matrix of weights instead of vector. (3, 4) = 3 neurons, 4 inputs\n",
    "weights_matrix = [[0.2, 0.8, -0.5, 1.0],\n",
    "                  [0.5, -0.91, 0.26, -0.5],\n",
    "                  [-0.26, -0.27, 0.17, 0.87]]\n",
    "\n",
    "# 3 neuron biases\n",
    "biases = [2.0, 3.0, 0.5]\n",
    "\n",
    "# Get output for inputs of a single layer\n",
    "def single_layer_output(inputs, weights, biases):\n",
    "    # input * weight + bias for each row\n",
    "    outputs = [single_neuron_output(inputs, weights[i], biases[i]) for i in range(len(weights))]\n",
    "    return outputs\n",
    "\n",
    "single_layer_output(inputs_vector, weights_matrix, biases)"
   ]
  },
  {
   "cell_type": "markdown",
   "id": "3b5d0d34-6fc5-4059-be89-b97010fc2643",
   "metadata": {},
   "source": [
    "## Vectors, Matrices, Tensors\n",
    "\n",
    "### Array \n",
    "- Homologous container. Homo - Same, Logos - Proportions/Ratios. Consistent in both dimensions. \n",
    "### Vector \n",
    "- Linear array; One dimensional array\n",
    "- [1, 2, 3]\n",
    "### Row Vector \n",
    "- An array with the shape (1, n)"
   ]
  },
  {
   "cell_type": "code",
   "execution_count": 4,
   "id": "65d196eb-550c-4d80-b8e3-ae2116b90602",
   "metadata": {
    "tags": []
   },
   "outputs": [],
   "source": [
    "# Row Vector (1,3)\n",
    "a = [1, 2, 3]"
   ]
  },
  {
   "cell_type": "code",
   "execution_count": 5,
   "id": "8cc196a9-d4a3-4180-91f7-200aba9a87b0",
   "metadata": {
    "tags": []
   },
   "outputs": [
    {
     "data": {
      "text/plain": [
       "array([[1, 2, 3]])"
      ]
     },
     "execution_count": 5,
     "metadata": {},
     "output_type": "execute_result"
    }
   ],
   "source": [
    "# Make a into a 2d row array\n",
    "np.expand_dims(a, axis=0)"
   ]
  },
  {
   "cell_type": "code",
   "execution_count": 6,
   "id": "fb03bfd2-c72a-45dc-b9b0-fe212816b45b",
   "metadata": {
    "tags": []
   },
   "outputs": [
    {
     "data": {
      "text/plain": [
       "array([[1, 2, 3]])"
      ]
     },
     "execution_count": 6,
     "metadata": {},
     "output_type": "execute_result"
    }
   ],
   "source": [
    "# Make a into a 2d row array\n",
    "np.array([a])"
   ]
  },
  {
   "cell_type": "markdown",
   "id": "a831c10b-69be-43d3-84b9-50a19ad4e483",
   "metadata": {},
   "source": [
    "### Column Vector \n",
    "- An array with the shape (n, 1)"
   ]
  },
  {
   "cell_type": "code",
   "execution_count": 7,
   "id": "9a0badee-7b7d-49c6-b0bd-aa6dda23e5ae",
   "metadata": {
    "tags": []
   },
   "outputs": [
    {
     "data": {
      "text/plain": [
       "array([[1],\n",
       "       [2],\n",
       "       [3]])"
      ]
     },
     "execution_count": 7,
     "metadata": {},
     "output_type": "execute_result"
    }
   ],
   "source": [
    "# Make a into a 2d column array\n",
    "np.expand_dims(a, axis=1)"
   ]
  },
  {
   "cell_type": "code",
   "execution_count": 8,
   "id": "02f783c1-dbea-4c72-aabf-f87f9c357721",
   "metadata": {
    "tags": []
   },
   "outputs": [
    {
     "data": {
      "text/plain": [
       "array([[1],\n",
       "       [2],\n",
       "       [3]])"
      ]
     },
     "execution_count": 8,
     "metadata": {},
     "output_type": "execute_result"
    }
   ],
   "source": [
    "# Transpose a into a column array\n",
    "np.array([a]).T"
   ]
  },
  {
   "cell_type": "markdown",
   "id": "c8d3553a-fbae-41e7-9557-4f195528c311",
   "metadata": {},
   "source": [
    "### Matrix - Two dimensional Array"
   ]
  },
  {
   "cell_type": "code",
   "execution_count": 9,
   "id": "2e47f5af-d245-4aae-b880-230958cfaae2",
   "metadata": {
    "tags": []
   },
   "outputs": [
    {
     "data": {
      "text/plain": [
       "array([[1, 2, 3],\n",
       "       [4, 5, 6]])"
      ]
     },
     "execution_count": 9,
     "metadata": {},
     "output_type": "execute_result"
    }
   ],
   "source": [
    "np.array([[1, 2, 3],\n",
    "          [4, 5, 6]])"
   ]
  },
  {
   "cell_type": "markdown",
   "id": "519983b5-91e3-4001-aec1-e91efdc6477e",
   "metadata": {},
   "source": [
    "### Three dimensional array"
   ]
  },
  {
   "cell_type": "code",
   "execution_count": 10,
   "id": "f990cb9a-3e7d-4297-baf1-9f81fbda59ac",
   "metadata": {
    "tags": []
   },
   "outputs": [
    {
     "data": {
      "text/plain": [
       "array([[[ 1,  2,  3],\n",
       "        [ 4,  5,  6]],\n",
       "\n",
       "       [[ 7,  8,  9],\n",
       "        [10, 11, 12]],\n",
       "\n",
       "       [[13, 14, 15],\n",
       "        [16, 17, 18]]])"
      ]
     },
     "execution_count": 10,
     "metadata": {},
     "output_type": "execute_result"
    }
   ],
   "source": [
    "np.array([[[1, 2, 3],\n",
    "          [4, 5, 6]],\n",
    "         [[7, 8, 9],\n",
    "          [10, 11, 12]],\n",
    "         [[13, 14, 15],\n",
    "          [16, 17, 18]]])"
   ]
  },
  {
   "cell_type": "markdown",
   "id": "9d2d7ee4-728c-4bc9-8a9d-52f59353d70c",
   "metadata": {
    "tags": []
   },
   "source": [
    "### Tensor \n",
    "- Object that can be represented as an array\n",
    "### Dot Product \n",
    "- Sum of the product of consecutive vector elements\n",
    "- ```sum(v1[i] * v2[i] for in in range(len(v1)]```\n",
    "- ```sum(inputs[i] * weights[i] for in in range(len(inputs)]```\n",
    "- ```np.dot(inputs, weights)```\n",
    "- Both vectors must be the same size"
   ]
  },
  {
   "cell_type": "code",
   "execution_count": 11,
   "id": "382a0aeb-3770-4f6c-b078-3c56d35d648d",
   "metadata": {
    "tags": []
   },
   "outputs": [
    {
     "data": {
      "text/plain": [
       "4.8"
      ]
     },
     "execution_count": 11,
     "metadata": {},
     "output_type": "execute_result"
    }
   ],
   "source": [
    "# Example Inputs\n",
    "inputs_vector = [1.0, 2.0, 3.0, 2.5]\n",
    "\n",
    "# Random Weights\n",
    "weights_vector = [0.2, 0.8, -0.5, 1.0]\n",
    "\n",
    "# Random Bias\n",
    "bias = 2.0\n",
    "\n",
    "# Using NumPy dot product to get single neuron output\n",
    "output = np.dot(inputs_vector, weights_vector) + bias\n",
    "output"
   ]
  },
  {
   "cell_type": "markdown",
   "id": "1d4cfa0d-2af1-4de5-96c7-fb60d71f90ae",
   "metadata": {},
   "source": [
    "### Matrix + vector\n",
    "- Add vector to all rows/columns of matrix depending on if row/column vector\n",
    "- Column vector must be same length as matrix column\n",
    "- Row vector must be same length as matrix row"
   ]
  },
  {
   "cell_type": "code",
   "execution_count": 12,
   "id": "7f4e9e82-6843-4e5f-a09b-a85ab4f61729",
   "metadata": {
    "tags": []
   },
   "outputs": [
    {
     "data": {
      "text/plain": [
       "[1, 2, 3]"
      ]
     },
     "execution_count": 12,
     "metadata": {},
     "output_type": "execute_result"
    }
   ],
   "source": [
    "a = [1, 2, 3]\n",
    "a"
   ]
  },
  {
   "cell_type": "code",
   "execution_count": 13,
   "id": "a1ee4b97-9ef3-486d-af03-7d9758777c1b",
   "metadata": {
    "tags": []
   },
   "outputs": [
    {
     "data": {
      "text/plain": [
       "array([[0., 0., 0.],\n",
       "       [0., 0., 0.],\n",
       "       [0., 0., 0.]])"
      ]
     },
     "execution_count": 13,
     "metadata": {},
     "output_type": "execute_result"
    }
   ],
   "source": [
    "B = np.zeros([3, 3])\n",
    "B"
   ]
  },
  {
   "cell_type": "code",
   "execution_count": 14,
   "id": "fc814fe2-0d12-424b-bdae-1870377bd9ad",
   "metadata": {
    "tags": []
   },
   "outputs": [
    {
     "data": {
      "text/plain": [
       "array([[1., 2., 3.],\n",
       "       [1., 2., 3.],\n",
       "       [1., 2., 3.]])"
      ]
     },
     "execution_count": 14,
     "metadata": {},
     "output_type": "execute_result"
    }
   ],
   "source": [
    "B + np.asarray([a])"
   ]
  },
  {
   "cell_type": "code",
   "execution_count": 15,
   "id": "4597c1a2-e350-4475-8b57-fa8f37849e9c",
   "metadata": {
    "tags": []
   },
   "outputs": [
    {
     "data": {
      "text/plain": [
       "array([[1., 1., 1.],\n",
       "       [2., 2., 2.],\n",
       "       [3., 3., 3.]])"
      ]
     },
     "execution_count": 15,
     "metadata": {},
     "output_type": "execute_result"
    }
   ],
   "source": [
    "B + np.asarray([a]).T"
   ]
  },
  {
   "cell_type": "markdown",
   "id": "1cb09057-1906-4081-8ac9-b3c0d352e938",
   "metadata": {},
   "source": [
    "### Matrix Product \n",
    "- The dot product of all combinations of rows of a first matrix (A) and columns of a second matrix (B).\n",
    "- For a matrix A with dimensions x, y and a matrix B with dimensions n, m y must equal n to perform matrix product.\n",
    "- A(x, y) & B(n, m) y == n\n",
    "- Results in a Matrix C(x, m)\n",
    "- The dot product of two vectors = a matrix product of a row and column vector.\n",
    "### Transposition \n",
    "- Changing a matrix A(x, y) to Matrix A(y, x). Flipping the columns into rows and rows into columns.\n",
    "- Transposing weights matrix allows us to take matrix product"
   ]
  },
  {
   "cell_type": "code",
   "execution_count": 16,
   "id": "f8d6b064-60b3-43a9-a519-b37419c42585",
   "metadata": {
    "tags": []
   },
   "outputs": [
    {
     "data": {
      "text/plain": [
       "array([[ 4.8  ,  1.21 ,  2.385],\n",
       "       [ 8.9  , -1.81 ,  0.2  ],\n",
       "       [ 1.41 ,  1.051,  0.026]])"
      ]
     },
     "execution_count": 16,
     "metadata": {},
     "output_type": "execute_result"
    }
   ],
   "source": [
    "# Using numpy to get Matrix Product - transposing weights\n",
    "# Matrix of inputs requires matrix product\n",
    "inputs_matrix = [[1.0, 2.0, 3.0, 2.5],\n",
    "                 [2.0, 5.0, -1.0, 2.0],\n",
    "                 [-1.5, 2.7, 3.3, -0.8]]\n",
    "\n",
    "# Random Weights\n",
    "weights_matrix = [[0.2, 0.8, -0.5, 1.0],\n",
    "                  [0.5, -0.91, 0.26, -0.5],\n",
    "                  [-0.26, -0.27, 0.17, 0.87]]\n",
    "\n",
    "# Random Biases\n",
    "biases = [2.0, 3.0, 0.5]\n",
    "\n",
    "# numpy converts biases to array by itself\n",
    "outputs = np.dot(inputs_matrix, np.asarray(weights_matrix).T) + biases\n",
    "outputs"
   ]
  },
  {
   "cell_type": "markdown",
   "id": "26c83f53-0b96-4844-847f-9e8bb9505a9d",
   "metadata": {},
   "source": [
    "## Adding a Layer"
   ]
  },
  {
   "cell_type": "code",
   "execution_count": 17,
   "id": "3ac3fb5e-734d-4942-a844-4c0e757293b3",
   "metadata": {
    "tags": []
   },
   "outputs": [
    {
     "data": {
      "text/plain": [
       "array([[ 4.8  ,  1.21 ,  2.385],\n",
       "       [ 8.9  , -1.81 ,  0.2  ],\n",
       "       [ 1.41 ,  1.051,  0.026]])"
      ]
     },
     "execution_count": 17,
     "metadata": {},
     "output_type": "execute_result"
    }
   ],
   "source": [
    "inputs = [[1.0, 2.0, 3.0, 2.5],\n",
    "          [2.0, 5.0, -1.0, 2.0],\n",
    "          [-1.5, 2.7, 3.3, -0.8]]\n",
    "\n",
    "weights = [[0.2, 0.8, -0.5, 1.0],\n",
    "           [0.5, -0.91, 0.26, -0.5],\n",
    "           [-0.26, -0.27, 0.17, 0.87]]\n",
    "\n",
    "biases = [2.0, 3.0, 0.5]\n",
    "\n",
    "# weights for input connections to second layer\n",
    "weights2 = [[0.1, -0.14, -0.5],\n",
    "            [-0.5, 0.12, -0.33],\n",
    "            [-0.44, 0.73, -0.13]]\n",
    "\n",
    "# biases per neuron for second layer\n",
    "biases2 = [-1.0, -2.0, -0.5]\n",
    "\n",
    "layer1_outputs = np.dot(inputs, np.asarray(weights).T) + biases\n",
    "layer1_outputs"
   ]
  },
  {
   "cell_type": "code",
   "execution_count": 18,
   "id": "d54bd939-cd52-49fb-b046-7b8ca025db24",
   "metadata": {
    "tags": []
   },
   "outputs": [
    {
     "data": {
      "text/plain": [
       "array([[-1.8819 , -5.04185, -2.03875],\n",
       "       [ 0.0434 , -6.7332 , -5.7633 ],\n",
       "       [-1.01914, -2.58746, -0.35655]])"
      ]
     },
     "execution_count": 18,
     "metadata": {},
     "output_type": "execute_result"
    }
   ],
   "source": [
    "# layer 2 takes layer one's output as input\n",
    "layer2_outputs = np.dot(layer1_outputs, np.asarray(weights2).T) + biases2\n",
    "layer2_outputs"
   ]
  },
  {
   "cell_type": "markdown",
   "id": "c760196e-c342-4b30-b1b9-fcf70dc98177",
   "metadata": {},
   "source": [
    "## Spiral Data"
   ]
  },
  {
   "cell_type": "code",
   "execution_count": 19,
   "id": "8dbf2788-a270-4dd5-aac2-a74bf5091f96",
   "metadata": {
    "tags": []
   },
   "outputs": [
    {
     "data": {
      "text/plain": [
       "<matplotlib.collections.PathCollection at 0x1f6268bc310>"
      ]
     },
     "execution_count": 19,
     "metadata": {},
     "output_type": "execute_result"
    },
    {
     "data": {
      "image/png": "[encoded data removed]",
      "text/plain": [
       "<Figure size 640x480 with 1 Axes>"
      ]
     },
     "metadata": {},
     "output_type": "display_data"
    }
   ],
   "source": [
    "# non-linear data is difficult for ML algorithms to identify patterns\n",
    "X, y = spiral_data(samples=100, classes=3)\n",
    "plt.scatter(X[:,0], X[:,1])"
   ]
  },
  {
   "cell_type": "code",
   "execution_count": 20,
   "id": "4a52ae02-76d7-44fb-8276-a5674036c9ce",
   "metadata": {
    "tags": []
   },
   "outputs": [
    {
     "data": {
      "text/plain": [
       "<matplotlib.collections.PathCollection at 0x1f627c18390>"
      ]
     },
     "execution_count": 20,
     "metadata": {},
     "output_type": "execute_result"
    },
    {
     "data": {
      "image/png": "[encoded data removed]",
      "text/plain": [
       "<Figure size 640x480 with 1 Axes>"
      ]
     },
     "metadata": {},
     "output_type": "display_data"
    }
   ],
   "source": [
    "# show the pattern\n",
    "plt.scatter(X[:,0], X[:,1], c=y, cmap='brg')"
   ]
  },
  {
   "cell_type": "markdown",
   "id": "13dae694-42ca-48af-b86d-cc0de454f11d",
   "metadata": {},
   "source": [
    "## Neurons\n",
    "* Dead Neuron - When a neuron's output is 0 and that keeps getting fed to new neurons which produce zero making the model untrainable.\n",
    "\n",
    "## Network/Layer Types\n",
    "* Dense/Fully Connected  Layer - Every neuron in each layer is connected to every neuron of the next layer.\n",
    "    - Each connection has a weight associated with it.\n"
   ]
  },
  {
   "cell_type": "code",
   "execution_count": 21,
   "id": "1c16ba70-cd7a-4a72-9fbd-b67a6fd45bf7",
   "metadata": {
    "tags": []
   },
   "outputs": [],
   "source": [
    "class Layer_Dense:\n",
    "    \n",
    "    def __init__(self, n_inputs, n_neurons):\n",
    "        # Initialize Weights & Biases\n",
    "        # set weights to be shape (n_inputs, n_neurons) so Matrix Product can be taken easily \n",
    "        # multiply by .01 to initialize non-zero weights small enough to minimize influence on training\n",
    "        self.weights = .01 * np.random.randn(n_inputs, n_neurons)\n",
    "        # one bias per neuron\n",
    "        self.biases = np.zeros((1, n_neurons))\n",
    "    \n",
    "    # Forward Pass\n",
    "    def forward(self, inputs):\n",
    "        # Calculate output values from inputs, weights and biases\n",
    "        self.output = np.dot(inputs, self.weights) +  self.biases"
   ]
  },
  {
   "cell_type": "code",
   "execution_count": 22,
   "id": "2083d53a-ec43-48b1-81b0-326c72cb0f3c",
   "metadata": {
    "tags": []
   },
   "outputs": [
    {
     "data": {
      "text/plain": [
       "array([[-0.00659014,  0.0111866 , -0.00012788],\n",
       "       [ 0.00213577,  0.01459163,  0.00192951]])"
      ]
     },
     "execution_count": 22,
     "metadata": {},
     "output_type": "execute_result"
    }
   ],
   "source": [
    "# spiral dataset again\n",
    "# X = matrix of coordinates, y = class enum\n",
    "X, y = spiral_data(samples=10, classes=3)\n",
    "\n",
    "# 2 inputs, 3 neurons\n",
    "dense1 = Layer_Dense(2, 3)\n",
    "dense1.weights"
   ]
  },
  {
   "cell_type": "code",
   "execution_count": 23,
   "id": "f9c6e754-9880-4d7d-9ffc-0a555e2243a9",
   "metadata": {
    "tags": []
   },
   "outputs": [
    {
     "data": {
      "text/plain": [
       "array([[0., 0., 0.]])"
      ]
     },
     "execution_count": 23,
     "metadata": {},
     "output_type": "execute_result"
    }
   ],
   "source": [
    "dense1.biases"
   ]
  },
  {
   "cell_type": "code",
   "execution_count": 24,
   "id": "b1d3ad5e-deed-437b-b6e7-f7bb9f186e30",
   "metadata": {
    "tags": []
   },
   "outputs": [],
   "source": [
    "dense1.forward(X)"
   ]
  },
  {
   "cell_type": "code",
   "execution_count": 25,
   "id": "f4700d0d-0abe-49c4-9839-241eb4050128",
   "metadata": {
    "tags": []
   },
   "outputs": [
    {
     "data": {
      "text/plain": [
       "(30, 3)"
      ]
     },
     "execution_count": 25,
     "metadata": {},
     "output_type": "execute_result"
    }
   ],
   "source": [
    "# X.shape = (300, 2)\n",
    "# dense1.weights.shape = (2, 3)\n",
    "dense1.output.shape"
   ]
  },
  {
   "cell_type": "code",
   "execution_count": 26,
   "id": "5fe440df-7240-422e-bcc7-faed32fd7eae",
   "metadata": {
    "tags": []
   },
   "outputs": [
    {
     "data": {
      "text/plain": [
       "array([[ 0.        ,  0.        ,  0.        ],\n",
       "       [-0.00043412,  0.00197502,  0.0001199 ],\n",
       "       [-0.00105404, -0.00187211, -0.00039992],\n",
       "       [ 0.00082999, -0.00612653, -0.00047285],\n",
       "       [ 0.00245467, -0.00682607, -0.00022799]])"
      ]
     },
     "execution_count": 26,
     "metadata": {},
     "output_type": "execute_result"
    }
   ],
   "source": [
    "dense1.output[:5]"
   ]
  },
  {
   "cell_type": "markdown",
   "id": "73a2bb47-c657-4255-8897-04e95db26461",
   "metadata": {},
   "source": [
    "## Activation Functions\n",
    "- Fed the result of `input * weight + bias` resulting in whether the neuron should fire or not and the strength of the resulting signal.\n",
    "-  Equation: output = input * weight + bias == y = mx + b. Output is linear. Activation functions alter output to be non-linear so more complex relationships can be discovered from data.\n",
    "- NN have 2 types of activation functions in general. One for the hidden layers & one for the output layer. \n",
    "- Different activation functions have different properties like differentiability, vanishing/exploding gradient problems, and computational efficiency.\n",
    "- Some activation functions work better for specific types of tasks or network architectures.\n",
    "### Sigmoid\n",
    "- Outputs a value between 0 and 1, representing a probability-like activation. 0 = negative infinity, .5 = 0, 1 = positive infinity. <br>\n",
    "$y = \\frac{1}{1+e^-x} $\n",
    "### ReLU (Rectified Linear Unit)\n",
    "- Outputs the input directly if it's positive, otherwise outputs 0.<br>\n",
    "$f(x) = max(0, x) $\n",
    "    - Output is unbounded, not normalized (can be anything) and exclusive (each output is independent "
   ]
  },
  {
   "cell_type": "code",
   "execution_count": 27,
   "id": "95de3847-7280-47a2-a428-8a8b3fa5cfb3",
   "metadata": {
    "tags": []
   },
   "outputs": [],
   "source": [
    "class Activation_ReLU:\n",
    "    def forward(self, inputs):\n",
    "        self.output = np.maximum(0, inputs)\n",
    "\n",
    "X, y = spiral_data(samples=100, classes=3)\n",
    "\n",
    "dense1 = Layer_Dense(2, 3)\n",
    "\n",
    "# Create ReLU activation to be used with dense layer\n",
    "activation1 = Activation_ReLU()\n",
    "\n",
    "# Make a forward pass of our training data through this layer\n",
    "dense1.forward(X)\n",
    "\n",
    "# Forward pass through activation function taking in output from previous layer\n",
    "activation1.forward(dense1.output)"
   ]
  },
  {
   "cell_type": "code",
   "execution_count": 28,
   "id": "c2cff081-9b77-4afb-82c1-532388a2e988",
   "metadata": {
    "tags": []
   },
   "outputs": [
    {
     "data": {
      "text/plain": [
       "array([[0.00000000e+00, 0.00000000e+00, 0.00000000e+00],\n",
       "       [9.62202505e-05, 1.03928311e-04, 5.37735986e-05],\n",
       "       [2.08105291e-04, 2.00440356e-04, 0.00000000e+00],\n",
       "       [1.89968568e-04, 2.30790537e-04, 2.50227485e-04]])"
      ]
     },
     "execution_count": 28,
     "metadata": {},
     "output_type": "execute_result"
    }
   ],
   "source": [
    "activation1.output[:4]"
   ]
  },
  {
   "cell_type": "markdown",
   "id": "0472cb18-9537-48e2-97c6-8abb8114a03b",
   "metadata": {},
   "source": [
    "### Tanh (Hyperbolic Tangent)\n",
    "- Outputs a value between -1 and 1, similar to sigmoid but with a steeper slope around zero.\n",
    "### Softmax Activation Function \n",
    "- Meant for classification.\n",
    "- Produces a normalized distribution of probabilities for classes.\n",
    "- Returns confidence scores\n",
    "- <font size=5>$ S_{i,j} = \\frac{e^{x_{i,j}}}{\\sum_{l=1}^{n} e^{x_{i,l}}} $</font>\n",
    "    - x = output value\n",
    "    - i = index of current sample\n",
    "    - j = value current sample (the output)\n",
    "- Numerator: $e^x$ any x you still get a positive value, so you never get a negative value for confidence + higher input values = higher output values so it won't change the predicted class.\n",
    "- Divide it by the sum of all values to get the normalized values; probability distribution"
   ]
  },
  {
   "cell_type": "code",
   "execution_count": 29,
   "id": "a2fa19cd-7749-45d2-b27d-74a25bc848e9",
   "metadata": {
    "tags": []
   },
   "outputs": [
    {
     "data": {
      "text/plain": [
       "array([121.51041752,   3.35348465,  10.85906266])"
      ]
     },
     "execution_count": 29,
     "metadata": {},
     "output_type": "execute_result"
    }
   ],
   "source": [
    "# sample layer outputs\n",
    "layer_outputs = [4.8, 1.21, 2.385]\n",
    "\n",
    "# Step One: raise e to output for each output\n",
    "# softmax_numerator = [math.e ** i for i in layer_outputs]\n",
    "\n",
    "# np.exp does e^each output\n",
    "softmax_numerator = np.exp(layer_outputs)\n",
    "softmax_numerator"
   ]
  },
  {
   "cell_type": "code",
   "execution_count": 30,
   "id": "830b2c1d-4286-423e-81d0-24c9a869cb5d",
   "metadata": {
    "tags": []
   },
   "outputs": [
    {
     "data": {
      "text/plain": [
       "135.7229648362044"
      ]
     },
     "execution_count": 30,
     "metadata": {},
     "output_type": "execute_result"
    }
   ],
   "source": [
    "# Step Two:\n",
    "# Get sum of all values \n",
    "# softmax_denominator = sum(softmax_numerator)\n",
    "softmax_denominator = np.sum(softmax_numerator)\n",
    "softmax_denominator"
   ]
  },
  {
   "cell_type": "code",
   "execution_count": 31,
   "id": "87038b38-fcb2-4564-a34b-94d4f8b5303c",
   "metadata": {
    "tags": []
   },
   "outputs": [
    {
     "data": {
      "text/plain": [
       "array([0.89528266, 0.02470831, 0.08000903])"
      ]
     },
     "execution_count": 31,
     "metadata": {},
     "output_type": "execute_result"
    }
   ],
   "source": [
    "# Step Three: Divide each output by sum to get probability\n",
    "# normalized_outputs = [softmax_numerator/softmax_denominator for i in softmax_numerator]\n",
    "normalized_outputs = softmax_numerator / softmax_denominator\n",
    "normalized_outputs"
   ]
  },
  {
   "cell_type": "code",
   "execution_count": 32,
   "id": "26d40c1b-0f9c-4b4d-b3e4-f5981082c65f",
   "metadata": {
    "tags": []
   },
   "outputs": [
    {
     "data": {
      "text/plain": [
       "0.9999999999999999"
      ]
     },
     "execution_count": 32,
     "metadata": {},
     "output_type": "execute_result"
    }
   ],
   "source": [
    "# Should add to ~1\n",
    "sum(normalized_outputs)"
   ]
  },
  {
   "cell_type": "code",
   "execution_count": 33,
   "id": "5958c2f1-5aeb-4e88-be3a-86ee8a421390",
   "metadata": {
    "tags": []
   },
   "outputs": [
    {
     "data": {
      "text/plain": [
       "array([[0.18036721, 0.32865048, 0.08956771, 0.4014146 ],\n",
       "       [0.41690107, 0.1017836 , 0.327946  , 0.15336933],\n",
       "       [0.1509898 , 0.14948743, 0.23211021, 0.46741256]])"
      ]
     },
     "execution_count": 33,
     "metadata": {},
     "output_type": "execute_result"
    }
   ],
   "source": [
    "# matrix of inputs to activation function (outputs of linear combination)\n",
    "inputs = [[0.2, 0.8, -0.5, 1.0],\n",
    "          [0.5, -0.91, 0.26, -0.5],\n",
    "          [-0.26, -0.27, 0.17, 0.87]]\n",
    "\n",
    "# get e^all inputs\n",
    "exp_vals = np.exp(inputs)\n",
    "\n",
    "# get probability distribution output per neuron\n",
    "probabilities = exp_vals / np.sum(exp_vals, axis=1, keepdims=True)\n",
    "probabilities"
   ]
  },
  {
   "cell_type": "code",
   "execution_count": 34,
   "id": "657eb69f-a654-4800-8dd7-b46623a7007e",
   "metadata": {
    "tags": []
   },
   "outputs": [],
   "source": [
    "class Activation_Softmax:\n",
    "    \n",
    "    # define forward pass\n",
    "    def forward(self, inputs):\n",
    "        # Subtract max to help prevent overflow errors (exploding values)\n",
    "        exp_values = np.exp(inputs - np.max(inputs, axis=1,\n",
    "                                        keepdims=True))\n",
    "        # Normalize for each sample\n",
    "        probabilities = exp_values / np.sum(exp_values, axis=1,\n",
    "                                        keepdims=True)\n",
    "        self.output = probabilities"
   ]
  },
  {
   "cell_type": "markdown",
   "id": "68f66d99-7ddb-49ca-8d2b-336a283a3c99",
   "metadata": {},
   "source": [
    "## np.sum()"
   ]
  },
  {
   "cell_type": "code",
   "execution_count": 35,
   "id": "098a98d7-fa1d-4247-b548-379ed62d79c3",
   "metadata": {
    "tags": []
   },
   "outputs": [],
   "source": [
    "inputs = [[0.2, 0.8, -0.5, 1.0],\n",
    "          [0.5, -0.91, 0.26, -0.5],\n",
    "          [-0.26, -0.27, 0.17, 0.87]]"
   ]
  },
  {
   "cell_type": "markdown",
   "id": "53645d39-b197-497d-85f8-42eb727adfcf",
   "metadata": {},
   "source": [
    "### Sum All Dimensions"
   ]
  },
  {
   "cell_type": "code",
   "execution_count": 36,
   "id": "76ac2e3d-1ab5-49de-a25b-d027f755cf82",
   "metadata": {
    "tags": []
   },
   "outputs": [
    {
     "data": {
      "text/plain": [
       "1.3599999999999999"
      ]
     },
     "execution_count": 36,
     "metadata": {},
     "output_type": "execute_result"
    }
   ],
   "source": [
    "# axis = None: Sums in all dimensions\n",
    "np.sum(inputs)"
   ]
  },
  {
   "cell_type": "markdown",
   "id": "d07a5ce0-2909-4211-b1e3-c19687e2dd6d",
   "metadata": {},
   "source": [
    "### Sum All Columns"
   ]
  },
  {
   "cell_type": "code",
   "execution_count": 37,
   "id": "7335a239-15cb-4276-8833-28b677efd308",
   "metadata": {
    "tags": []
   },
   "outputs": [
    {
     "data": {
      "text/plain": [
       "array([ 0.44, -0.38, -0.07,  1.37])"
      ]
     },
     "execution_count": 37,
     "metadata": {},
     "output_type": "execute_result"
    }
   ],
   "source": [
    "# axis = 0: Sums all columns\n",
    "np.sum(inputs, axis=0)"
   ]
  },
  {
   "cell_type": "markdown",
   "id": "0bf380f7-76a9-43bc-9314-2dbf9435ecc3",
   "metadata": {},
   "source": [
    "### Sum All Rows"
   ]
  },
  {
   "cell_type": "code",
   "execution_count": 38,
   "id": "bc69b6ff-6738-4ae1-8c74-a5508b999015",
   "metadata": {
    "tags": []
   },
   "outputs": [
    {
     "data": {
      "text/plain": [
       "array([ 1.5 , -0.65,  0.51])"
      ]
     },
     "execution_count": 38,
     "metadata": {},
     "output_type": "execute_result"
    }
   ],
   "source": [
    "# axis = 1: Sums all rows\n",
    "np.sum(inputs, axis=1)"
   ]
  },
  {
   "cell_type": "code",
   "execution_count": null,
   "id": "d7f505a5-ef8f-4102-ae37-b96181b6aba2",
   "metadata": {},
   "outputs": [],
   "source": []
  }
 ],
 "metadata": {
  "kernelspec": {
   "display_name": "Python 3 (ipykernel)",
   "language": "python",
   "name": "python3"
  },
  "language_info": {
   "codemirror_mode": {
    "name": "ipython",
    "version": 3
   },
   "file_extension": ".py",
   "mimetype": "text/x-python",
   "name": "python",
   "nbconvert_exporter": "python",
   "pygments_lexer": "ipython3",
   "version": "3.11.5"
  }
 },
 "nbformat": 4,
 "nbformat_minor": 5
}
