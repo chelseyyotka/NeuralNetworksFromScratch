{
 "cells": [
  {
   "cell_type": "code",
   "execution_count": 1,
   "id": "143a36e3-f0bf-4e1e-ad46-fd5c8e8bd977",
   "metadata": {
    "tags": []
   },
   "outputs": [],
   "source": [
    "import numpy as np\n",
    "import nnfs\n",
    "from nnfs.datasets import spiral_data, vertical_data\n",
    "\n",
    "# sets random seed to 0\n",
    "# Sets dtype default to float32\n",
    "# overrides np.dot()\n",
    "# nnfs.init()\n",
    "\n",
    "import matplotlib.pyplot as plt\n",
    "import math"
   ]
  },
  {
   "cell_type": "markdown",
   "id": "010c335d-3113-4693-a84b-a56a64d2562d",
   "metadata": {},
   "source": [
    "# Notes on Neural Networks from Scratch"
   ]
  },
  {
   "cell_type": "markdown",
   "id": "c89a73fd-ba14-472a-be27-c93eb0cd1d9e",
   "metadata": {
    "toc-hr-collapsed": true
   },
   "source": [
    "## Data\n",
    "### Feature \n",
    "- A single measurable property of phenomena that can be used for predictions or classifications.\n",
    "- Usually Numeric. Features usually must be converted/encoded to numeric values to be used with ML algorithms.\n",
    "- Can sometimes be combined to create new features. \n",
    "- Should be informative and relevant to the task.\n",
    "- Deep neural networks can learn complex relationships between features, including interactions and non-linear relationships. Thus eliminating the need for manual feature engineering.\n",
    "### Preprocessing Data - Adjusting feature data to be suitable for an algorithm.\n",
    "- Encoding\n",
    "- Normalization\n",
    "- Scaling\n",
    "### Feature Set \n",
    "- Group of features. \n",
    "- Represented as vectors.\n",
    "### Sample \n",
    "- An instance of a feature set. One \"Row\", one observation.\n",
    "### Batch \n",
    "- Group of samples.\n",
    "- Separated used to train with parallel processing.\n",
    "- Batching helps prevent overfitting. See [this](https://nnfs.io/vyu/) animation\n",
    "### In-Sample Data \n",
    "- Training Data\n",
    "### Out-Of-Sample Data \n",
    "- Testing/Validation Data\n",
    "### Generalization \n",
    "- \"Generalizing\" the model to work well on never-before-seen input. \n",
    "### Overfitting \n",
    "- When a model \"memorizes\" a dataset and looks for \"too-specific\" features \n",
    "### Training \n",
    "- Slowly adjusting the weights/biases of a model to obtain the desired output.\n",
    "### Tabular Data \n",
    "- Features can be given in any order, data in a table.\n",
    "### Forward Pass \n",
    "- When we pass data through a model from beginning to end.\n",
    "- Data passes through neurons, then the activation function then the next layer & activation function...etc\n",
    "- 1 Neuron: Activation_function(sum(inputs * weights*) + bias))"
   ]
  },
  {
   "cell_type": "markdown",
   "id": "e75b5aed-0266-4a5d-8385-2baa1bc15232",
   "metadata": {},
   "source": [
    "## Model Types\n",
    "### Classification \n",
    "- Predict discrete labels/targets\n",
    "- Binary Classification: Predicts one of two targets\n",
    "- Multiclass Classification: Predicts one of 3+ targets\n",
    "\n",
    "#### One-hot Array\n",
    "- An array for classification where one value in array is 1 and the rest are 0\n",
    "- Used where targets are 2+ dimensions\n",
    "\n",
    "#### Sparse Array\n",
    "- An array for classification where the numbers are the correct class numbers (1=dog, 2=cat) etc\n",
    "- Used where targets are a 1D array\n",
    "\n",
    "### Regression \n",
    "- Predict numeric values   \n",
    "- Multivariate Regression: Predicts multiple numeric values"
   ]
  },
  {
   "cell_type": "markdown",
   "id": "11e1cfdb-f8fd-4d0c-a1ae-60436ecbc078",
   "metadata": {},
   "source": [
    "## Layers\n",
    "### Input Layer \n",
    "- Actual input data, typically preprocessed.\n",
    "### Output Layer \n",
    "- What the neural network returns\n",
    "- Often has as many neurons as the training dataset has classes.\n",
    "### Hidden Layer \n",
    "- A layer of neurons located between the input layer and the output layer"
   ]
  },
  {
   "cell_type": "markdown",
   "id": "d894aa5b-3d0a-437f-8bd3-e9227c416473",
   "metadata": {
    "tags": []
   },
   "source": [
    "## Linear Combination\n",
    "### Equation: \n",
    "* ```Input * Weight + Bias = Output```\n",
    "* Inputs * Weights (Connections) + bias (per neuron)\n",
    "### Weight \n",
    "- A trainable factor of how much of the input to use. \n",
    "- Multiplied by the input value to determine how much of that input signal contributes to the output.\n",
    "- Present in each *connection* between neurons.\n",
    "- Weights are initially random, then are adjusted based on how far the actual output is from the desired output.\n",
    "    - In the case of pretrained models weights are initialized with whatever the pretrained model finished with.\n",
    "- Each connection in a neural network has a unique weight.\n",
    "- Weights can be positive or negative.\n",
    "- After all input * weight values are taken they are summed and added to the bias.\n",
    "### Bias \n",
    "- A constant added to the weighted sum of inputs which changes a neuron's activation threshold.\n",
    "- Present in each neuron itself.\n",
    "- Allows control of neuron activation threshold independent of the input values.\n",
    "- Higher bias needs stronger signal for neuron to fire, lower bias means it will fire at a weaker signal\n",
    "- Initially random/0, then are adjusted based on how far the actual output is from the desired output."
   ]
  },
  {
   "cell_type": "code",
   "execution_count": 2,
   "id": "24e06075-15f3-4f8d-b115-43c281749b42",
   "metadata": {
    "tags": []
   },
   "outputs": [
    {
     "data": {
      "text/plain": [
       "4.8"
      ]
     },
     "execution_count": 2,
     "metadata": {},
     "output_type": "execute_result"
    }
   ],
   "source": [
    "# Example Inputs\n",
    "inputs_vector = [1.0, 2.0, 3.0, 2.5]\n",
    "\n",
    "# Random Weights\n",
    "weights_vector = [0.2, 0.8, -0.5, 1.0]\n",
    "\n",
    "# Random Bias\n",
    "bias = 2.0\n",
    "\n",
    "# Get output for inputs to a single neuron\n",
    "def single_neuron_output(inputs, weights, bias):\n",
    "    # sum of inputs * weight\n",
    "    weighted_sum = sum(inputs[i] * weights[i] for i in range(len(inputs)))\n",
    "    # add bias\n",
    "    output = weighted_sum + bias\n",
    "    return output\n",
    "    \n",
    "single_neuron_output(inputs_vector, weights_vector, bias)"
   ]
  },
  {
   "cell_type": "code",
   "execution_count": 3,
   "id": "9063f75f-79c1-4af9-82df-e63bde5fd6cd",
   "metadata": {
    "tags": []
   },
   "outputs": [
    {
     "data": {
      "text/plain": [
       "[4.8, 1.21, 2.385]"
      ]
     },
     "execution_count": 3,
     "metadata": {},
     "output_type": "execute_result"
    }
   ],
   "source": [
    "inputs_vector = [1.0, 2.0, 3.0, 2.5]\n",
    "\n",
    "# Matrix of weights instead of vector. (3, 4) = 3 neurons, 4 inputs\n",
    "weights_matrix = [[0.2, 0.8, -0.5, 1.0],\n",
    "                  [0.5, -0.91, 0.26, -0.5],\n",
    "                  [-0.26, -0.27, 0.17, 0.87]]\n",
    "\n",
    "# 3 neuron biases\n",
    "biases = [2.0, 3.0, 0.5]\n",
    "\n",
    "# Get output for inputs of a single layer\n",
    "def single_layer_output(inputs, weights, biases):\n",
    "    # input * weight + bias for each row\n",
    "    outputs = [single_neuron_output(inputs, weights[i], biases[i]) for i in range(len(weights))]\n",
    "    return outputs\n",
    "\n",
    "single_layer_output(inputs_vector, weights_matrix, biases)"
   ]
  },
  {
   "cell_type": "markdown",
   "id": "3b5d0d34-6fc5-4059-be89-b97010fc2643",
   "metadata": {},
   "source": [
    "## Vectors, Matrices, Tensors\n",
    "\n",
    "### Array \n",
    "- Homologous container. Homo - Same, Logos - Proportions/Ratios. Consistent in both dimensions. \n",
    "### Vector \n",
    "- Linear array; One dimensional array\n",
    "- [1, 2, 3]\n",
    "#### Row Vector \n",
    "- An array with the shape (1, n)"
   ]
  },
  {
   "cell_type": "code",
   "execution_count": 4,
   "id": "65d196eb-550c-4d80-b8e3-ae2116b90602",
   "metadata": {
    "tags": []
   },
   "outputs": [],
   "source": [
    "# Row Vector (1,3)\n",
    "a = [1, 2, 3]"
   ]
  },
  {
   "cell_type": "code",
   "execution_count": 5,
   "id": "8cc196a9-d4a3-4180-91f7-200aba9a87b0",
   "metadata": {
    "tags": []
   },
   "outputs": [
    {
     "data": {
      "text/plain": [
       "array([[1, 2, 3]])"
      ]
     },
     "execution_count": 5,
     "metadata": {},
     "output_type": "execute_result"
    }
   ],
   "source": [
    "# Make a into a 2d row array\n",
    "np.expand_dims(a, axis=0)"
   ]
  },
  {
   "cell_type": "code",
   "execution_count": 6,
   "id": "fb03bfd2-c72a-45dc-b9b0-fe212816b45b",
   "metadata": {
    "tags": []
   },
   "outputs": [
    {
     "data": {
      "text/plain": [
       "array([[1, 2, 3]])"
      ]
     },
     "execution_count": 6,
     "metadata": {},
     "output_type": "execute_result"
    }
   ],
   "source": [
    "# Make a into a 2d row array\n",
    "np.array([a])"
   ]
  },
  {
   "cell_type": "markdown",
   "id": "a831c10b-69be-43d3-84b9-50a19ad4e483",
   "metadata": {},
   "source": [
    "#### Column Vector \n",
    "- An array with the shape (n, 1)"
   ]
  },
  {
   "cell_type": "code",
   "execution_count": 7,
   "id": "9a0badee-7b7d-49c6-b0bd-aa6dda23e5ae",
   "metadata": {
    "tags": []
   },
   "outputs": [
    {
     "data": {
      "text/plain": [
       "array([[1],\n",
       "       [2],\n",
       "       [3]])"
      ]
     },
     "execution_count": 7,
     "metadata": {},
     "output_type": "execute_result"
    }
   ],
   "source": [
    "# Make a into a 2d column array\n",
    "np.expand_dims(a, axis=1)"
   ]
  },
  {
   "cell_type": "code",
   "execution_count": 8,
   "id": "02f783c1-dbea-4c72-aabf-f87f9c357721",
   "metadata": {
    "tags": []
   },
   "outputs": [
    {
     "data": {
      "text/plain": [
       "array([[1],\n",
       "       [2],\n",
       "       [3]])"
      ]
     },
     "execution_count": 8,
     "metadata": {},
     "output_type": "execute_result"
    }
   ],
   "source": [
    "# Transpose a into a column array\n",
    "np.array([a]).T"
   ]
  },
  {
   "cell_type": "markdown",
   "id": "72c2df39-4563-466a-af41-846bd07e209b",
   "metadata": {},
   "source": [
    "### Tensor \n",
    "- Object that can be represented as an array"
   ]
  },
  {
   "cell_type": "markdown",
   "id": "519983b5-91e3-4001-aec1-e91efdc6477e",
   "metadata": {},
   "source": [
    "### Three dimensional array"
   ]
  },
  {
   "cell_type": "code",
   "execution_count": 9,
   "id": "f990cb9a-3e7d-4297-baf1-9f81fbda59ac",
   "metadata": {
    "tags": []
   },
   "outputs": [
    {
     "data": {
      "text/plain": [
       "array([[[ 1,  2,  3],\n",
       "        [ 4,  5,  6]],\n",
       "\n",
       "       [[ 7,  8,  9],\n",
       "        [10, 11, 12]],\n",
       "\n",
       "       [[13, 14, 15],\n",
       "        [16, 17, 18]]])"
      ]
     },
     "execution_count": 9,
     "metadata": {},
     "output_type": "execute_result"
    }
   ],
   "source": [
    "np.array([[[1, 2, 3],\n",
    "          [4, 5, 6]],\n",
    "         [[7, 8, 9],\n",
    "          [10, 11, 12]],\n",
    "         [[13, 14, 15],\n",
    "          [16, 17, 18]]])"
   ]
  },
  {
   "cell_type": "markdown",
   "id": "c8d3553a-fbae-41e7-9557-4f195528c311",
   "metadata": {},
   "source": [
    "### Matrix \n",
    "- Two dimensional Array"
   ]
  },
  {
   "cell_type": "code",
   "execution_count": 10,
   "id": "2e47f5af-d245-4aae-b880-230958cfaae2",
   "metadata": {
    "tags": []
   },
   "outputs": [
    {
     "data": {
      "text/plain": [
       "array([[1, 2, 3],\n",
       "       [4, 5, 6]])"
      ]
     },
     "execution_count": 10,
     "metadata": {},
     "output_type": "execute_result"
    }
   ],
   "source": [
    "np.array([[1, 2, 3],\n",
    "          [4, 5, 6]])"
   ]
  },
  {
   "cell_type": "markdown",
   "id": "9d2d7ee4-728c-4bc9-8a9d-52f59353d70c",
   "metadata": {
    "tags": []
   },
   "source": [
    "### Dot Product \n",
    "- Sum of the product of consecutive vector elements\n",
    "- ```sum(v1[i] * v2[i] for in in range(len(v1)]```\n",
    "- ```sum(inputs[i] * weights[i] for in in range(len(inputs)]```\n",
    "- ```np.dot(inputs, weights)```\n",
    "- Both vectors must be the same size"
   ]
  },
  {
   "cell_type": "code",
   "execution_count": 11,
   "id": "382a0aeb-3770-4f6c-b078-3c56d35d648d",
   "metadata": {
    "tags": []
   },
   "outputs": [
    {
     "data": {
      "text/plain": [
       "4.8"
      ]
     },
     "execution_count": 11,
     "metadata": {},
     "output_type": "execute_result"
    }
   ],
   "source": [
    "# Example Inputs\n",
    "inputs_vector = [1.0, 2.0, 3.0, 2.5]\n",
    "\n",
    "# Random Weights\n",
    "weights_vector = [0.2, 0.8, -0.5, 1.0]\n",
    "\n",
    "# Random Bias\n",
    "bias = 2.0\n",
    "\n",
    "# Using NumPy dot product to get single neuron output\n",
    "output = np.dot(inputs_vector, weights_vector) + bias\n",
    "output"
   ]
  },
  {
   "cell_type": "markdown",
   "id": "1d4cfa0d-2af1-4de5-96c7-fb60d71f90ae",
   "metadata": {},
   "source": [
    "### Matrix + vector\n",
    "- Add vector to all rows/columns of matrix depending on if row/column vector\n",
    "- Column vector must be same length as matrix column\n",
    "- Row vector must be same length as matrix row"
   ]
  },
  {
   "cell_type": "code",
   "execution_count": 12,
   "id": "7f4e9e82-6843-4e5f-a09b-a85ab4f61729",
   "metadata": {
    "tags": []
   },
   "outputs": [
    {
     "data": {
      "text/plain": [
       "[1, 2, 3]"
      ]
     },
     "execution_count": 12,
     "metadata": {},
     "output_type": "execute_result"
    }
   ],
   "source": [
    "a = [1, 2, 3]\n",
    "a"
   ]
  },
  {
   "cell_type": "code",
   "execution_count": 13,
   "id": "a1ee4b97-9ef3-486d-af03-7d9758777c1b",
   "metadata": {
    "tags": []
   },
   "outputs": [
    {
     "data": {
      "text/plain": [
       "array([[0., 0., 0.],\n",
       "       [0., 0., 0.],\n",
       "       [0., 0., 0.]])"
      ]
     },
     "execution_count": 13,
     "metadata": {},
     "output_type": "execute_result"
    }
   ],
   "source": [
    "B = np.zeros([3, 3])\n",
    "B"
   ]
  },
  {
   "cell_type": "code",
   "execution_count": 14,
   "id": "fc814fe2-0d12-424b-bdae-1870377bd9ad",
   "metadata": {
    "tags": []
   },
   "outputs": [
    {
     "data": {
      "text/plain": [
       "array([[1., 2., 3.],\n",
       "       [1., 2., 3.],\n",
       "       [1., 2., 3.]])"
      ]
     },
     "execution_count": 14,
     "metadata": {},
     "output_type": "execute_result"
    }
   ],
   "source": [
    "B + np.asarray([a])"
   ]
  },
  {
   "cell_type": "code",
   "execution_count": 15,
   "id": "4597c1a2-e350-4475-8b57-fa8f37849e9c",
   "metadata": {
    "tags": []
   },
   "outputs": [
    {
     "data": {
      "text/plain": [
       "array([[1., 1., 1.],\n",
       "       [2., 2., 2.],\n",
       "       [3., 3., 3.]])"
      ]
     },
     "execution_count": 15,
     "metadata": {},
     "output_type": "execute_result"
    }
   ],
   "source": [
    "B + np.asarray([a]).T"
   ]
  },
  {
   "cell_type": "markdown",
   "id": "1cb09057-1906-4081-8ac9-b3c0d352e938",
   "metadata": {},
   "source": [
    "### Matrix Product \n",
    "- The dot product of all combinations of rows of a first matrix (A) and columns of a second matrix (B).\n",
    "- For a matrix A with dimensions x, y and a matrix B with dimensions n, m y must equal n to perform matrix product.\n",
    "- A(x, y) & B(n, m) y == n\n",
    "- Results in a Matrix C(x, m)\n",
    "- The dot product of two vectors = a matrix product of a row and column vector.\n",
    "### Transposition \n",
    "- Changing a matrix A(x, y) to Matrix A(y, x). Flipping the columns into rows and rows into columns.\n",
    "- Transposing weights matrix allows us to take matrix product"
   ]
  },
  {
   "cell_type": "code",
   "execution_count": 16,
   "id": "f8d6b064-60b3-43a9-a519-b37419c42585",
   "metadata": {
    "tags": []
   },
   "outputs": [
    {
     "data": {
      "text/plain": [
       "array([[ 4.8  ,  1.21 ,  2.385],\n",
       "       [ 8.9  , -1.81 ,  0.2  ],\n",
       "       [ 1.41 ,  1.051,  0.026]])"
      ]
     },
     "execution_count": 16,
     "metadata": {},
     "output_type": "execute_result"
    }
   ],
   "source": [
    "# Using numpy to get Matrix Product - transposing weights\n",
    "# Matrix of inputs requires matrix product\n",
    "inputs_matrix = [[1.0, 2.0, 3.0, 2.5],\n",
    "                 [2.0, 5.0, -1.0, 2.0],\n",
    "                 [-1.5, 2.7, 3.3, -0.8]]\n",
    "\n",
    "# Random Weights\n",
    "weights_matrix = [[0.2, 0.8, -0.5, 1.0],\n",
    "                  [0.5, -0.91, 0.26, -0.5],\n",
    "                  [-0.26, -0.27, 0.17, 0.87]]\n",
    "\n",
    "# Random Biases\n",
    "biases = [2.0, 3.0, 0.5]\n",
    "\n",
    "# numpy converts biases to array by itself\n",
    "outputs = np.dot(inputs_matrix, np.asarray(weights_matrix).T) + biases\n",
    "outputs"
   ]
  },
  {
   "cell_type": "markdown",
   "id": "26c83f53-0b96-4844-847f-9e8bb9505a9d",
   "metadata": {},
   "source": [
    "## Adding a Layer"
   ]
  },
  {
   "cell_type": "code",
   "execution_count": 17,
   "id": "3ac3fb5e-734d-4942-a844-4c0e757293b3",
   "metadata": {
    "tags": []
   },
   "outputs": [
    {
     "data": {
      "text/plain": [
       "array([[ 4.8  ,  1.21 ,  2.385],\n",
       "       [ 8.9  , -1.81 ,  0.2  ],\n",
       "       [ 1.41 ,  1.051,  0.026]])"
      ]
     },
     "execution_count": 17,
     "metadata": {},
     "output_type": "execute_result"
    }
   ],
   "source": [
    "inputs = [[1.0, 2.0, 3.0, 2.5],\n",
    "          [2.0, 5.0, -1.0, 2.0],\n",
    "          [-1.5, 2.7, 3.3, -0.8]]\n",
    "\n",
    "weights = [[0.2, 0.8, -0.5, 1.0],\n",
    "           [0.5, -0.91, 0.26, -0.5],\n",
    "           [-0.26, -0.27, 0.17, 0.87]]\n",
    "\n",
    "biases = [2.0, 3.0, 0.5]\n",
    "\n",
    "# weights for input connections to second layer\n",
    "weights2 = [[0.1, -0.14, -0.5],\n",
    "            [-0.5, 0.12, -0.33],\n",
    "            [-0.44, 0.73, -0.13]]\n",
    "\n",
    "# biases per neuron for second layer\n",
    "biases2 = [-1.0, -2.0, -0.5]\n",
    "\n",
    "layer1_outputs = np.dot(inputs, np.asarray(weights).T) + biases\n",
    "layer1_outputs"
   ]
  },
  {
   "cell_type": "code",
   "execution_count": 18,
   "id": "d54bd939-cd52-49fb-b046-7b8ca025db24",
   "metadata": {
    "tags": []
   },
   "outputs": [
    {
     "data": {
      "text/plain": [
       "array([[-1.8819 , -5.04185, -2.03875],\n",
       "       [ 0.0434 , -6.7332 , -5.7633 ],\n",
       "       [-1.01914, -2.58746, -0.35655]])"
      ]
     },
     "execution_count": 18,
     "metadata": {},
     "output_type": "execute_result"
    }
   ],
   "source": [
    "# layer 2 takes layer one's output as input\n",
    "layer2_outputs = np.dot(layer1_outputs, np.asarray(weights2).T) + biases2\n",
    "layer2_outputs"
   ]
  },
  {
   "cell_type": "markdown",
   "id": "c760196e-c342-4b30-b1b9-fcf70dc98177",
   "metadata": {},
   "source": [
    "## Spiral Data"
   ]
  },
  {
   "cell_type": "code",
   "execution_count": 19,
   "id": "8dbf2788-a270-4dd5-aac2-a74bf5091f96",
   "metadata": {
    "tags": []
   },
   "outputs": [
    {
     "data": {
      "text/plain": [
       "<matplotlib.collections.PathCollection at 0x18be44d2110>"
      ]
     },
     "execution_count": 19,
     "metadata": {},
     "output_type": "execute_result"
    },
    {
     "data": {
      "image/png": "[encoded data removed]",
      "text/plain": [
       "<Figure size 640x480 with 1 Axes>"
      ]
     },
     "metadata": {},
     "output_type": "display_data"
    }
   ],
   "source": [
    "# non-linear data is difficult for ML algorithms to identify patterns\n",
    "X, y = spiral_data(samples=100, classes=3)\n",
    "plt.scatter(X[:,0], X[:,1])"
   ]
  },
  {
   "cell_type": "code",
   "execution_count": 20,
   "id": "4a52ae02-76d7-44fb-8276-a5674036c9ce",
   "metadata": {
    "tags": []
   },
   "outputs": [
    {
     "data": {
      "text/plain": [
       "<matplotlib.collections.PathCollection at 0x18be4e15510>"
      ]
     },
     "execution_count": 20,
     "metadata": {},
     "output_type": "execute_result"
    },
    {
     "data": {
      "image/png": "[encoded data removed]",
      "text/plain": [
       "<Figure size 640x480 with 1 Axes>"
      ]
     },
     "metadata": {},
     "output_type": "display_data"
    }
   ],
   "source": [
    "# show the pattern\n",
    "plt.scatter(X[:,0], X[:,1], c=y, cmap='brg')"
   ]
  },
  {
   "cell_type": "markdown",
   "id": "13dae694-42ca-48af-b86d-cc0de454f11d",
   "metadata": {},
   "source": [
    "## Neurons\n",
    "* Dead Neuron - When a neuron's output is 0 and that keeps getting fed to new neurons which produce zero making the model untrainable.\n",
    "\n",
    "## Network/Layer Types\n",
    "* Dense/Fully Connected  Layer - Every neuron in each layer is connected to every neuron of the next layer.\n",
    "    - Each connection has a weight associated with it.\n"
   ]
  },
  {
   "cell_type": "code",
   "execution_count": 21,
   "id": "1c16ba70-cd7a-4a72-9fbd-b67a6fd45bf7",
   "metadata": {
    "tags": []
   },
   "outputs": [],
   "source": [
    "class Layer_Dense:\n",
    "    \n",
    "    def __init__(self, n_inputs, n_neurons):\n",
    "        # Initialize Weights & Biases\n",
    "        # set weights to be shape (n_inputs, n_neurons) so Matrix Product can be taken easily \n",
    "        # multiply by .01 to initialize non-zero weights small enough to minimize influence on training\n",
    "        self.weights = .01 * np.random.randn(n_inputs, n_neurons)\n",
    "        # one bias per neuron\n",
    "        self.biases = np.zeros((1, n_neurons))\n",
    "    \n",
    "    # Forward Pass\n",
    "    def forward(self, inputs):\n",
    "        # Calculate output values from inputs, weights and biases\n",
    "        self.output = np.dot(inputs, self.weights) +  self.biases"
   ]
  },
  {
   "cell_type": "code",
   "execution_count": 22,
   "id": "2083d53a-ec43-48b1-81b0-326c72cb0f3c",
   "metadata": {
    "tags": []
   },
   "outputs": [
    {
     "data": {
      "text/plain": [
       "array([[ 0.00979571, -0.00448032, -0.00129488],\n",
       "       [ 0.00053727,  0.00554007,  0.007897  ]])"
      ]
     },
     "execution_count": 22,
     "metadata": {},
     "output_type": "execute_result"
    }
   ],
   "source": [
    "# spiral dataset again\n",
    "# X = matrix of coordinates, y = class enum\n",
    "X, y = spiral_data(samples=10, classes=3)\n",
    "\n",
    "# 2 inputs, 3 neurons\n",
    "dense1 = Layer_Dense(2, 3)\n",
    "dense1.weights"
   ]
  },
  {
   "cell_type": "code",
   "execution_count": 23,
   "id": "f9c6e754-9880-4d7d-9ffc-0a555e2243a9",
   "metadata": {
    "tags": []
   },
   "outputs": [
    {
     "data": {
      "text/plain": [
       "array([[0., 0., 0.]])"
      ]
     },
     "execution_count": 23,
     "metadata": {},
     "output_type": "execute_result"
    }
   ],
   "source": [
    "dense1.biases"
   ]
  },
  {
   "cell_type": "code",
   "execution_count": 24,
   "id": "b1d3ad5e-deed-437b-b6e7-f7bb9f186e30",
   "metadata": {
    "tags": []
   },
   "outputs": [],
   "source": [
    "dense1.forward(X)"
   ]
  },
  {
   "cell_type": "code",
   "execution_count": 25,
   "id": "f4700d0d-0abe-49c4-9839-241eb4050128",
   "metadata": {
    "tags": []
   },
   "outputs": [
    {
     "data": {
      "text/plain": [
       "(30, 3)"
      ]
     },
     "execution_count": 25,
     "metadata": {},
     "output_type": "execute_result"
    }
   ],
   "source": [
    "# X.shape = (300, 2)\n",
    "# dense1.weights.shape = (2, 3)\n",
    "dense1.output.shape"
   ]
  },
  {
   "cell_type": "code",
   "execution_count": 26,
   "id": "5fe440df-7240-422e-bcc7-faed32fd7eae",
   "metadata": {
    "tags": []
   },
   "outputs": [
    {
     "data": {
      "text/plain": [
       "array([[ 0.00000000e+00,  0.00000000e+00,  0.00000000e+00],\n",
       "       [ 8.96334731e-04, -1.57240877e-05,  4.24445463e-04],\n",
       "       [ 1.53045021e-03, -1.56484246e-03, -1.39335347e-03],\n",
       "       [-2.25575569e-03, -4.35336056e-04, -1.72220572e-03],\n",
       "       [-3.62414118e-03,  2.96810729e-03,  2.28386622e-03]])"
      ]
     },
     "execution_count": 26,
     "metadata": {},
     "output_type": "execute_result"
    }
   ],
   "source": [
    "dense1.output[:5]"
   ]
  },
  {
   "cell_type": "markdown",
   "id": "73a2bb47-c657-4255-8897-04e95db26461",
   "metadata": {},
   "source": [
    "## Activation Functions\n",
    "- Fed the result of `input * weight + bias` resulting in whether the neuron should fire or not and the strength of the resulting signal.\n",
    "-  Equation: output = input * weight + bias == y = mx + b. Output is linear. Activation functions alter output to be non-linear so more complex relationships can be discovered from data.\n",
    "- NN have 2 types of activation functions in general. One for the hidden layers & one for the output layer. \n",
    "- Different activation functions have different properties like differentiability, vanishing/exploding gradient problems, and computational efficiency.\n",
    "- Some activation functions work better for specific types of tasks or network architectures.\n",
    "### Sigmoid\n",
    "- Outputs a value between 0 and 1, representing a probability-like activation. 0 = negative infinity, .5 = 0, 1 = positive infinity. <br>\n",
    "$y = \\frac{1}{1+e^-x} $\n",
    "### ReLU (Rectified Linear Unit)\n",
    "- Outputs the input directly if it's positive, otherwise outputs 0.<br>\n",
    "$f(x) = max(0, x) $\n",
    "    - Output is unbounded, not normalized (can be anything) and exclusive (each output is independent "
   ]
  },
  {
   "cell_type": "code",
   "execution_count": 27,
   "id": "95de3847-7280-47a2-a428-8a8b3fa5cfb3",
   "metadata": {
    "tags": []
   },
   "outputs": [],
   "source": [
    "class Activation_ReLU:\n",
    "    def forward(self, inputs):\n",
    "        self.output = np.maximum(0, inputs)\n",
    "\n",
    "X, y = spiral_data(samples=100, classes=3)\n",
    "\n",
    "dense1 = Layer_Dense(2, 3)\n",
    "\n",
    "# Create ReLU activation to be used with dense layer\n",
    "activation1 = Activation_ReLU()\n",
    "\n",
    "# Make a forward pass of our training data through this layer\n",
    "dense1.forward(X)\n",
    "\n",
    "# Forward pass through activation function taking in output from previous layer\n",
    "activation1.forward(dense1.output)"
   ]
  },
  {
   "cell_type": "code",
   "execution_count": 28,
   "id": "c2cff081-9b77-4afb-82c1-532388a2e988",
   "metadata": {
    "tags": []
   },
   "outputs": [
    {
     "data": {
      "text/plain": [
       "array([[0.00000000e+00, 0.00000000e+00, 0.00000000e+00],\n",
       "       [1.16134860e-04, 1.37353175e-04, 0.00000000e+00],\n",
       "       [2.19853551e-04, 2.85696452e-04, 0.00000000e+00],\n",
       "       [1.76200764e-04, 3.90018120e-04, 6.87166286e-05]])"
      ]
     },
     "execution_count": 28,
     "metadata": {},
     "output_type": "execute_result"
    }
   ],
   "source": [
    "activation1.output[:4]"
   ]
  },
  {
   "cell_type": "markdown",
   "id": "0472cb18-9537-48e2-97c6-8abb8114a03b",
   "metadata": {},
   "source": [
    "### Tanh (Hyperbolic Tangent)\n",
    "- Outputs a value between -1 and 1, similar to sigmoid but with a steeper slope around zero.\n",
    "### Softmax Activation Function \n",
    "- Meant for classification.\n",
    "- Produces a normalized distribution of probabilities for classes.\n",
    "- Returns confidence scores\n",
    "- <font size=5>$ S_{i,j} = \\frac{e^{x_{i,j}}}{\\sum_{l=1}^{n} e^{x_{i,l}}} $</font>\n",
    "    - x = output value\n",
    "    - i = index of current sample\n",
    "    - j = value current sample (the output)\n",
    "- Numerator: $e^x$ any x you still get a positive value, so you never get a negative value for confidence + higher input values = higher output values so it won't change the predicted class.\n",
    "- Divide it by the sum of all values to get the normalized values; probability distribution"
   ]
  },
  {
   "cell_type": "code",
   "execution_count": 29,
   "id": "a2fa19cd-7749-45d2-b27d-74a25bc848e9",
   "metadata": {
    "tags": []
   },
   "outputs": [
    {
     "data": {
      "text/plain": [
       "array([121.51041752,   3.35348465,  10.85906266])"
      ]
     },
     "execution_count": 29,
     "metadata": {},
     "output_type": "execute_result"
    }
   ],
   "source": [
    "# sample layer outputs\n",
    "layer_outputs = [4.8, 1.21, 2.385]\n",
    "\n",
    "# Step One: raise e to output for each output\n",
    "# softmax_numerator = [math.e ** i for i in layer_outputs]\n",
    "\n",
    "# np.exp does e^each output\n",
    "softmax_numerator = np.exp(layer_outputs)\n",
    "softmax_numerator"
   ]
  },
  {
   "cell_type": "code",
   "execution_count": 30,
   "id": "830b2c1d-4286-423e-81d0-24c9a869cb5d",
   "metadata": {
    "tags": []
   },
   "outputs": [
    {
     "data": {
      "text/plain": [
       "135.7229648362044"
      ]
     },
     "execution_count": 30,
     "metadata": {},
     "output_type": "execute_result"
    }
   ],
   "source": [
    "# Step Two:\n",
    "# Get sum of all values \n",
    "# softmax_denominator = sum(softmax_numerator)\n",
    "softmax_denominator = np.sum(softmax_numerator)\n",
    "softmax_denominator"
   ]
  },
  {
   "cell_type": "code",
   "execution_count": 31,
   "id": "87038b38-fcb2-4564-a34b-94d4f8b5303c",
   "metadata": {
    "tags": []
   },
   "outputs": [
    {
     "data": {
      "text/plain": [
       "array([0.89528266, 0.02470831, 0.08000903])"
      ]
     },
     "execution_count": 31,
     "metadata": {},
     "output_type": "execute_result"
    }
   ],
   "source": [
    "# Step Three: Divide each output by sum to get probability\n",
    "# normalized_outputs = [softmax_numerator/softmax_denominator for i in softmax_numerator]\n",
    "normalized_outputs = softmax_numerator / softmax_denominator\n",
    "normalized_outputs"
   ]
  },
  {
   "cell_type": "code",
   "execution_count": 32,
   "id": "26d40c1b-0f9c-4b4d-b3e4-f5981082c65f",
   "metadata": {
    "tags": []
   },
   "outputs": [
    {
     "data": {
      "text/plain": [
       "0.9999999999999999"
      ]
     },
     "execution_count": 32,
     "metadata": {},
     "output_type": "execute_result"
    }
   ],
   "source": [
    "# Should add to ~1\n",
    "sum(normalized_outputs)"
   ]
  },
  {
   "cell_type": "code",
   "execution_count": 33,
   "id": "5958c2f1-5aeb-4e88-be3a-86ee8a421390",
   "metadata": {
    "tags": []
   },
   "outputs": [
    {
     "data": {
      "text/plain": [
       "array([[0.18036721, 0.32865048, 0.08956771, 0.4014146 ],\n",
       "       [0.41690107, 0.1017836 , 0.327946  , 0.15336933],\n",
       "       [0.1509898 , 0.14948743, 0.23211021, 0.46741256]])"
      ]
     },
     "execution_count": 33,
     "metadata": {},
     "output_type": "execute_result"
    }
   ],
   "source": [
    "# matrix of inputs to activation function (outputs of linear combination)\n",
    "inputs = [[0.2, 0.8, -0.5, 1.0],\n",
    "          [0.5, -0.91, 0.26, -0.5],\n",
    "          [-0.26, -0.27, 0.17, 0.87]]\n",
    "\n",
    "# get e^all inputs\n",
    "exp_vals = np.exp(inputs)\n",
    "\n",
    "# get probability distribution output per neuron\n",
    "probabilities = exp_vals / np.sum(exp_vals, axis=1, keepdims=True)\n",
    "probabilities"
   ]
  },
  {
   "cell_type": "code",
   "execution_count": 34,
   "id": "657eb69f-a654-4800-8dd7-b46623a7007e",
   "metadata": {
    "tags": []
   },
   "outputs": [],
   "source": [
    "class Activation_Softmax:\n",
    "    \n",
    "    # define forward pass\n",
    "    def forward(self, inputs):\n",
    "        # Subtract max to help prevent overflow errors (exploding values)\n",
    "        exp_values = np.exp(inputs - np.max(inputs, axis=1,\n",
    "                                        keepdims=True))\n",
    "        # Normalize for each sample\n",
    "        probabilities = exp_values / np.sum(exp_values, axis=1,\n",
    "                                        keepdims=True)\n",
    "        self.output = probabilities"
   ]
  },
  {
   "cell_type": "markdown",
   "id": "209a3fff-9f60-4335-adc3-8677b35f7315",
   "metadata": {},
   "source": [
    "## Loss Function\n",
    "- AKA Cost function\n",
    "- Algorithm that quantifies how wrong a model is.\n",
    "### Loss\n",
    "- Model's error, so the lower the better\n",
    "### Categorical Cross-Entropy\n",
    "- Used to compare a \"ground-truth\" probability (target, y) and predicted distribution (prediction, $\\hat y$)<br>\n",
    "$L_i = -\\sum y_{i,j} \\log (\\hat y_{i,j})$\n",
    "* $i$ - index of sample\n",
    "* $j$ - value of sample at index $i$\n",
    "* $L$ - Loss value of sample at index $i$\n",
    "* $\\hat y$ - predicted value\n",
    "* The higher the confidence score, the lower the loss value $\\log (1) = 0$\n",
    "* $\\log_e(y)$, $e^x = y$"
   ]
  },
  {
   "cell_type": "code",
   "execution_count": 35,
   "id": "b7ddc524-1d6e-44be-ae10-e902d6987cb0",
   "metadata": {
    "tags": []
   },
   "outputs": [
    {
     "data": {
      "text/plain": [
       "0.35667494393873245"
      ]
     },
     "execution_count": 35,
     "metadata": {},
     "output_type": "execute_result"
    }
   ],
   "source": [
    "# Example output of softmax activation function\n",
    "softmax_output = [0.7, 0.1, 0.2]\n",
    "\n",
    "# Example target\n",
    "target_output = [1, 0, 0]\n",
    "\n",
    "# Negative sum of target * log(prediction)\n",
    "loss = -sum(target_output[i] * math.log(softmax_output[i]) for i in range(len(softmax_output)))\n",
    "loss"
   ]
  },
  {
   "cell_type": "code",
   "execution_count": 36,
   "id": "9a8d01d0-9d8d-4d2c-aa18-29b2bfee3efd",
   "metadata": {
    "tags": []
   },
   "outputs": [
    {
     "data": {
      "text/plain": [
       "0.35667494393873245"
      ]
     },
     "execution_count": 36,
     "metadata": {},
     "output_type": "execute_result"
    }
   ],
   "source": [
    "# Since non-true-target indices will always be zero, no need to include them\n",
    "target_index = 0\n",
    "loss = -target_output[target_index] * math.log(softmax_output[target_index])\n",
    "loss"
   ]
  },
  {
   "cell_type": "code",
   "execution_count": 37,
   "id": "a96658de-3015-450b-a48b-596a529314df",
   "metadata": {
    "tags": []
   },
   "outputs": [
    {
     "data": {
      "text/plain": [
       "0.35667494393873245"
      ]
     },
     "execution_count": 37,
     "metadata": {},
     "output_type": "execute_result"
    }
   ],
   "source": [
    "# Since target output is always 1, no need to multiply the prediction by it\n",
    "loss = -math.log(softmax_output[target_index])\n",
    "loss"
   ]
  },
  {
   "cell_type": "code",
   "execution_count": 38,
   "id": "cbde82d3-5201-44c8-b6c2-cec064400b15",
   "metadata": {
    "tags": []
   },
   "outputs": [
    {
     "data": {
      "text/plain": [
       "array([0.7, 0.5, 0.9])"
      ]
     },
     "execution_count": 38,
     "metadata": {},
     "output_type": "execute_result"
    }
   ],
   "source": [
    "# Example softmax output matrix\n",
    "# Probabilities for 3 samples\n",
    "softmax_outputs = np.array([[0.7, 0.1, 0.2],\n",
    "                            [0.1, 0.5, 0.4],\n",
    "                            [0.02, 0.9, 0.08]])\n",
    "class_targets = [0, 1, 1]\n",
    "\n",
    "# 0, 1, 2 are the indices, class targets become the values for the indices referenced\n",
    "softmax_outputs[[0, 1, 2], class_targets]"
   ]
  },
  {
   "cell_type": "code",
   "execution_count": 39,
   "id": "2a8c760c-41c0-4157-af57-42e2278b7f22",
   "metadata": {
    "tags": []
   },
   "outputs": [
    {
     "data": {
      "text/plain": [
       "0.38506088005216804"
      ]
     },
     "execution_count": 39,
     "metadata": {},
     "output_type": "execute_result"
    }
   ],
   "source": [
    "# get the negative log of the predictions using class targets to index softmax outputs\n",
    "neg_log = -np.log(softmax_outputs[range(len(softmax_outputs)), class_targets])\n",
    "\n",
    "# Calculate the mean loss using np.mean to get average of array\n",
    "average_loss = np.mean(neg_log)\n",
    "average_loss"
   ]
  },
  {
   "cell_type": "code",
   "execution_count": 40,
   "id": "276fb415-fe44-49cf-8cd3-7392bf69f5e9",
   "metadata": {
    "tags": []
   },
   "outputs": [
    {
     "data": {
      "text/plain": [
       "0.6674935001812359"
      ]
     },
     "execution_count": 40,
     "metadata": {},
     "output_type": "execute_result"
    }
   ],
   "source": [
    "# Example softmax output matrix\n",
    "# Probabilities for 3 samples\n",
    "softmax_outputs = np.array([[0.7, 0.1, 0.2],\n",
    "                            [0.1, 0.5, 0.4],\n",
    "                            [0.02, 0.9, 0.08]])\n",
    "class_targets = np.array([[0, 1, 1],\n",
    "                          [0, 1, 0],\n",
    "                          [0, 1, 0]])\n",
    "\n",
    "# If array is 1D, thus sparse (categorical)\n",
    "if len(class_targets.shape) == 1:\n",
    "    correct_confidences = softmax_outputs[range(len(softmax_outputs)), class_targets]\n",
    "# If array is 2D, thus one hot encoded\n",
    "elif len(class_targets.shape) == 2:\n",
    "    correct_confidences = np.sum(softmax_outputs * class_targets, axis=1)\n",
    "    \n",
    "# get the negative log of the predictions\n",
    "neg_log = -np.log(correct_confidences)\n",
    "\n",
    "# Calculate the mean loss \n",
    "average_loss = np.mean(neg_log)\n",
    "average_loss"
   ]
  },
  {
   "cell_type": "code",
   "execution_count": 41,
   "id": "ea63e33d-946b-403e-b8c3-272405a3d50a",
   "metadata": {
    "tags": []
   },
   "outputs": [],
   "source": [
    "class Loss:\n",
    "    \n",
    "    # Calculate data & regularization loss given model output & ground truth vals\n",
    "    def calculate(self, output, y):\n",
    "        \n",
    "        # Calculate sample losses\n",
    "        sample_losses = self.forward(output, y)\n",
    "        \n",
    "        # Calculate mean loss\n",
    "        data_loss = np.mean(sample_losses)\n",
    "        \n",
    "        return data_loss"
   ]
  },
  {
   "cell_type": "code",
   "execution_count": 42,
   "id": "91c15ac3-5e04-4eee-8818-518cf3ebf3f8",
   "metadata": {},
   "outputs": [],
   "source": [
    "class Loss_CategoricalCrossEntropy(Loss):\n",
    "    \n",
    "    # Forward Pass\n",
    "    def forward(self, y_pred, y_true):\n",
    "        \n",
    "        # Number of samples in a batch\n",
    "        samples = len(y_pred)\n",
    "        \n",
    "        # clip prediction \n",
    "        # min - to avoid taking the log of 0 and having a value of -inf\n",
    "        # max - to avoid log of 1 being negative/shifting confidence toward 1\n",
    "        y_pred_clipped = np.clip(y_pred, 1e-7, 1 - 1e-7)\n",
    "        \n",
    "        # If array is 1D, thus sparse (categorical)\n",
    "        # Get predictions at indices indicated in y_true\n",
    "        if len(class_targets.shape) == 1:\n",
    "            correct_confidences = y_pred_clipped[range(samples), y_true]\n",
    "            \n",
    "        # If array is 2D, thus one hot encoded\n",
    "        # multiply prediction array by ground truth array & sum\n",
    "        elif len(class_targets.shape) == 2:\n",
    "            correct_confidences = np.sum(y_pred_clipped * y_true, axis=1)\n",
    "\n",
    "        # get the negative log of the predictions \n",
    "        neg_log_likelihoods = -np.log(correct_confidences)\n",
    "\n",
    "        return neg_log_likelihoods\n",
    "        "
   ]
  },
  {
   "cell_type": "code",
   "execution_count": 43,
   "id": "147d1c15-4614-49d1-9796-db64c9a29f69",
   "metadata": {
    "tags": []
   },
   "outputs": [
    {
     "name": "stderr",
     "output_type": "stream",
     "text": [
      "C:\\Users\\chels\\AppData\\Local\\Temp\\ipykernel_28648\\2933082444.py:1: RuntimeWarning: divide by zero encountered in log\n",
      "  np.log(0)\n"
     ]
    },
    {
     "data": {
      "text/plain": [
       "-inf"
      ]
     },
     "execution_count": 43,
     "metadata": {},
     "output_type": "execute_result"
    }
   ],
   "source": [
    "np.log(0)"
   ]
  },
  {
   "cell_type": "code",
   "execution_count": 44,
   "id": "9412ab4a-e282-49e5-8531-4f62b640c871",
   "metadata": {
    "tags": []
   },
   "outputs": [
    {
     "data": {
      "text/plain": [
       "0.6674935001812359"
      ]
     },
     "execution_count": 44,
     "metadata": {},
     "output_type": "execute_result"
    }
   ],
   "source": [
    "softmax_outputs = np.array([[0.7, 0.1, 0.2],\n",
    "                            [0.1, 0.5, 0.4],\n",
    "                            [0.02, 0.9, 0.08]])\n",
    "class_targets = np.array([[0, 1, 1],\n",
    "                          [0, 1, 0],\n",
    "                          [0, 1, 0]])\n",
    "\n",
    "loss_function = Loss_CategoricalCrossEntropy()\n",
    "loss = loss_function.calculate(softmax_outputs, class_targets)\n",
    "loss"
   ]
  },
  {
   "cell_type": "markdown",
   "id": "c5d9bd9f-3399-49ac-aa3b-8c126da6abef",
   "metadata": {},
   "source": [
    "## Accuracy\n",
    "- How often the largest confidence is the correct class in fractional terms"
   ]
  },
  {
   "cell_type": "code",
   "execution_count": 45,
   "id": "73d1bbbf-6a09-4861-8a6c-3197d58ee9fe",
   "metadata": {
    "tags": []
   },
   "outputs": [
    {
     "data": {
      "text/plain": [
       "0.6666666666666666"
      ]
     },
     "execution_count": 45,
     "metadata": {},
     "output_type": "execute_result"
    }
   ],
   "source": [
    "softmax_outputs = np.array([[0.7, 0.1, 0.2],\n",
    "                            [0.5, 0.1, 0.4],\n",
    "                            [0.02, 0.9, 0.08]])\n",
    "class_targets = np.array([0, 1, 1])\n",
    "\n",
    "# Calculate values along rows\n",
    "predictions = np.argmax(softmax_outputs, axis=1)\n",
    "\n",
    "# if one hot convert them\n",
    "if len(class_targets) == 2:\n",
    "    class_targets = np.argmax(class_targets, axis=1)\n",
    "    \n",
    "# True evaluates to 1 false to 0\n",
    "accuracy = np.mean(predictions==class_targets)\n",
    "accuracy"
   ]
  },
  {
   "cell_type": "markdown",
   "id": "d836b517-a917-41d5-a4a2-b670947d8a20",
   "metadata": {},
   "source": [
    "## Optimization"
   ]
  },
  {
   "cell_type": "code",
   "execution_count": 46,
   "id": "fa09145e-fca3-40f1-b4bb-3dd8c5051916",
   "metadata": {
    "tags": []
   },
   "outputs": [
    {
     "data": {
      "text/plain": [
       "<matplotlib.collections.PathCollection at 0x18be5e5d490>"
      ]
     },
     "execution_count": 46,
     "metadata": {},
     "output_type": "execute_result"
    },
    {
     "data": {
      "image/png": "[encoded data removed]",
      "text/plain": [
       "<Figure size 640x480 with 1 Axes>"
      ]
     },
     "metadata": {},
     "output_type": "display_data"
    }
   ],
   "source": [
    "X, y = vertical_data(samples=100, classes=3)\n",
    "plt.scatter(X[:, 0], X[:, 1], c=y, s=40, cmap='brg')"
   ]
  },
  {
   "cell_type": "code",
   "execution_count": 47,
   "id": "6ccfc9c5-b0e5-489b-afaa-761a467dbd1d",
   "metadata": {
    "tags": []
   },
   "outputs": [
    {
     "name": "stdout",
     "output_type": "stream",
     "text": [
      "New set of weights/biases found.\n",
      " Iteration: 0 loss: 1.0987515742707814 accuracy: 0.3333333333333333\n",
      "New set of weights/biases found.\n",
      " Iteration: 1 loss: 1.0986276965400474 accuracy: 0.39666666666666667\n",
      "New set of weights/biases found.\n",
      " Iteration: 2 loss: 1.0986100581368852 accuracy: 0.30333333333333334\n",
      "New set of weights/biases found.\n",
      " Iteration: 3 loss: 1.0982565084923548 accuracy: 0.4766666666666667\n",
      "New set of weights/biases found.\n",
      " Iteration: 4 loss: 1.0982557620084412 accuracy: 0.3333333333333333\n",
      "New set of weights/biases found.\n",
      " Iteration: 16 loss: 1.0979071931971582 accuracy: 0.3333333333333333\n",
      "New set of weights/biases found.\n",
      " Iteration: 17 loss: 1.0979010696558855 accuracy: 0.3333333333333333\n",
      "New set of weights/biases found.\n",
      " Iteration: 28 loss: 1.0976903993758387 accuracy: 0.3333333333333333\n",
      "New set of weights/biases found.\n",
      " Iteration: 109 loss: 1.0976808463657393 accuracy: 0.61\n",
      "New set of weights/biases found.\n",
      " Iteration: 128 loss: 1.0975200311217201 accuracy: 0.3333333333333333\n",
      "New set of weights/biases found.\n",
      " Iteration: 222 loss: 1.0974050705001184 accuracy: 0.3333333333333333\n",
      "New set of weights/biases found.\n",
      " Iteration: 477 loss: 1.097180616158514 accuracy: 0.3333333333333333\n",
      "New set of weights/biases found.\n",
      " Iteration: 702 loss: 1.0970671411436312 accuracy: 0.3333333333333333\n",
      "New set of weights/biases found.\n",
      " Iteration: 1046 loss: 1.0967857200370887 accuracy: 0.3333333333333333\n",
      "New set of weights/biases found.\n",
      " Iteration: 1578 loss: 1.0964337828594706 accuracy: 0.3466666666666667\n",
      "New set of weights/biases found.\n",
      " Iteration: 4284 loss: 1.0958328040847451 accuracy: 0.3333333333333333\n",
      "New set of weights/biases found.\n",
      " Iteration: 7249 loss: 1.095113044910483 accuracy: 0.3333333333333333\n"
     ]
    }
   ],
   "source": [
    "# Initialize first hidden layer w/ 3 neurons\n",
    "dense1 = Layer_Dense(2, 3)\n",
    "\n",
    "# Initialize ReLU Activation Function\n",
    "activation1 = Activation_ReLU()\n",
    "\n",
    "# Initialize Second hidden layer w/ 3 neurons\n",
    "dense2 = Layer_Dense(3, 3)\n",
    "\n",
    "# Initialize Softmax Activation Function\n",
    "activation2 = Activation_Softmax()\n",
    "\n",
    "# Initialize loss function\n",
    "loss_function = Loss_CategoricalCrossEntropy()\n",
    "\n",
    "# Helper variables\n",
    "lowest_loss = 9999999 # arbitrary large initial value\n",
    "best_dense1_weights = dense1.weights.copy()\n",
    "best_dense1_biases = dense1.biases.copy()\n",
    "best_dense2_weights = dense2.weights.copy()\n",
    "best_dense2_biases = dense1.biases.copy()\n",
    "\n",
    "for i in range(10000):\n",
    "    # Generate a new set of weights for iteration\n",
    "    dense1.weights = 0.05 * np.random.randn(2, 3)\n",
    "    dense1.biases = 0.05 * np.random.randn(1, 3)\n",
    "    dense2.weights = 0.05 * np.random.randn(3, 3)\n",
    "    dense1.biases = 0.05 * np.random.randn(1, 3)\n",
    "    \n",
    "    # Forward pass of data through layers & activation functions\n",
    "    dense1.forward(X)\n",
    "    activation1.forward(dense1.output) #ReLU\n",
    "    dense2.forward(activation1.output)\n",
    "    activation2.forward(dense2.output) #softmax\n",
    "    \n",
    "    # get loss\n",
    "    loss = loss_function.calculate(activation2.output, y)\n",
    "    \n",
    "    # Get Accuracy for output of softmax & targets\n",
    "    # Calculate values along first axis\n",
    "    predictions = np.argmax(activation2.output, axis=1)\n",
    "    accuracy = np.mean(predictions == y)\n",
    "    \n",
    "    # if loss is less than current loss save values of weights/biases\n",
    "    if loss < lowest_loss:\n",
    "        print(f'New set of weights/biases found.\\n Iteration: {i} loss: {loss} accuracy: {accuracy}')\n",
    "        lowest_loss = loss\n",
    "        best_dense1_weights = dense1.weights.copy()\n",
    "        best_dense1_biases = dense1.biases.copy()\n",
    "        best_dense2_weights = dense2.weights.copy()\n",
    "        best_dense2_biases = dense1.biases.copy()\n",
    "    else:\n",
    "        dense1.weights = best_dense1_weights\n",
    "        dense1.biases = best_dense1_biases\n",
    "        dense2.weights = best_dense2_weights\n",
    "        dense1.biases = best_dense2_biases"
   ]
  },
  {
   "cell_type": "markdown",
   "id": "0781423a-bac9-4ffc-ac61-354d632ba58e",
   "metadata": {},
   "source": [
    "## NumPy "
   ]
  },
  {
   "cell_type": "markdown",
   "id": "1131f155-6a74-4dd6-bb9e-554f2e21f819",
   "metadata": {},
   "source": [
    "### np.sum()"
   ]
  },
  {
   "cell_type": "code",
   "execution_count": 48,
   "id": "098a98d7-fa1d-4247-b548-379ed62d79c3",
   "metadata": {
    "tags": []
   },
   "outputs": [],
   "source": [
    "inputs = [[0.2, 0.8, -0.5, 1.0],\n",
    "          [0.5, -0.91, 0.26, -0.5],\n",
    "          [-0.26, -0.27, 0.17, 0.87]]"
   ]
  },
  {
   "cell_type": "markdown",
   "id": "ee34aac0-1b86-4433-97dd-ce72c909d063",
   "metadata": {},
   "source": [
    "#### Sum All Dimensions"
   ]
  },
  {
   "cell_type": "code",
   "execution_count": 49,
   "id": "76ac2e3d-1ab5-49de-a25b-d027f755cf82",
   "metadata": {
    "tags": []
   },
   "outputs": [
    {
     "data": {
      "text/plain": [
       "1.3599999999999999"
      ]
     },
     "execution_count": 49,
     "metadata": {},
     "output_type": "execute_result"
    }
   ],
   "source": [
    "# axis = None: Sums in all dimensions\n",
    "np.sum(inputs)"
   ]
  },
  {
   "cell_type": "markdown",
   "id": "0b99c5a7-fc15-4e0d-b079-e3a1feb1c69e",
   "metadata": {},
   "source": [
    "#### Sum All Columns"
   ]
  },
  {
   "cell_type": "code",
   "execution_count": 50,
   "id": "7335a239-15cb-4276-8833-28b677efd308",
   "metadata": {
    "tags": []
   },
   "outputs": [
    {
     "data": {
      "text/plain": [
       "array([ 0.44, -0.38, -0.07,  1.37])"
      ]
     },
     "execution_count": 50,
     "metadata": {},
     "output_type": "execute_result"
    }
   ],
   "source": [
    "# axis = 0: Sums all columns\n",
    "np.sum(inputs, axis=0)"
   ]
  },
  {
   "cell_type": "markdown",
   "id": "7a6d68fc-e69b-414d-ab87-727d1d8cd585",
   "metadata": {},
   "source": [
    "#### Sum All Rows"
   ]
  },
  {
   "cell_type": "code",
   "execution_count": 51,
   "id": "bc69b6ff-6738-4ae1-8c74-a5508b999015",
   "metadata": {
    "tags": []
   },
   "outputs": [
    {
     "data": {
      "text/plain": [
       "array([ 1.5 , -0.65,  0.51])"
      ]
     },
     "execution_count": 51,
     "metadata": {},
     "output_type": "execute_result"
    }
   ],
   "source": [
    "# axis = 1: Sums all rows\n",
    "np.sum(inputs, axis=1)"
   ]
  },
  {
   "cell_type": "markdown",
   "id": "36a15c8e-e745-4042-a30e-7ca662ec87b2",
   "metadata": {},
   "source": [
    "### NumPy Indexing"
   ]
  },
  {
   "cell_type": "code",
   "execution_count": 52,
   "id": "1dceeb12-0e07-4c01-a1e1-cbd5581fae7c",
   "metadata": {},
   "outputs": [
    {
     "data": {
      "text/plain": [
       "array([0.7, 0.5, 0.9])"
      ]
     },
     "execution_count": 52,
     "metadata": {},
     "output_type": "execute_result"
    }
   ],
   "source": [
    "matrix = np.array([[0.7, 0.1, 0.2],\n",
    "                   [0.1, 0.5, 0.4],\n",
    "                   [0.02, 0.9, 0.08]])\n",
    "\n",
    "vector = [0, 1, 1]\n",
    "\n",
    "# 0, 1, 2 are referencing indices, the vector become the values for the indices referenced\n",
    "# for i in range(len(matrix)) get matrix[x][vector[x]]\n",
    "matrix[[0, 1, 2], vector]"
   ]
  },
  {
   "cell_type": "markdown",
   "id": "8ec003ee-fbbd-4bce-ba46-a6e0189723a2",
   "metadata": {},
   "source": [
    "### np.clip(a, a_min, a_max)\n",
    "- a: input array for clipping\n",
    "- a_min: values lower than a_min are replaced with this value.\n",
    "    - Can be None\n",
    "- a_max: values higher than a_max are replaced by a_max.\n",
    "    - Can be None\n"
   ]
  },
  {
   "cell_type": "markdown",
   "id": "d6425977-65a9-4daa-9d27-0e8455bd4a8f",
   "metadata": {},
   "source": [
    "### np.argmax(a, axis)\n",
    "- a: input array to search for maximum\n",
    "- axis: optional. None = all dimensions, 1=row, 0=column\n",
    "- Returns index of max val ex [3, 6, 4] = "
   ]
  },
  {
   "cell_type": "code",
   "execution_count": 53,
   "id": "aaf9de43-6990-476c-b6a2-ea7e2c835bd1",
   "metadata": {
    "tags": []
   },
   "outputs": [
    {
     "data": {
      "text/plain": [
       "array([[1],\n",
       "       [0]], dtype=int64)"
      ]
     },
     "execution_count": 53,
     "metadata": {},
     "output_type": "execute_result"
    }
   ],
   "source": [
    "# argmax per row\n",
    "np.argmax([[3, 6, 4],\n",
    "           [9, 1, 0]], axis=1, keepdims=True)"
   ]
  },
  {
   "cell_type": "code",
   "execution_count": 54,
   "id": "b9cf59f5-deac-4753-b6e5-2c39d329727a",
   "metadata": {
    "tags": []
   },
   "outputs": [
    {
     "data": {
      "text/plain": [
       "array([[1, 0, 0]], dtype=int64)"
      ]
     },
     "execution_count": 54,
     "metadata": {},
     "output_type": "execute_result"
    }
   ],
   "source": [
    "# argmax per column\n",
    "np.argmax([[3, 6, 4],\n",
    "           [9, 1, 0]], axis=0, keepdims=True)"
   ]
  },
  {
   "cell_type": "code",
   "execution_count": 55,
   "id": "523763c6-1597-415f-86f4-c0c6c42dbbc6",
   "metadata": {
    "tags": []
   },
   "outputs": [
    {
     "data": {
      "text/plain": [
       "array([1, 0, 1], dtype=int64)"
      ]
     },
     "execution_count": 55,
     "metadata": {},
     "output_type": "execute_result"
    }
   ],
   "source": [
    "# argmax per column 2\n",
    "np.argmax([[3, 6, 1],\n",
    "           [9, 1, 4]], axis=0)"
   ]
  },
  {
   "cell_type": "markdown",
   "id": "76966cc9-ef82-4097-947f-91902f9d46e2",
   "metadata": {},
   "source": [
    "### np.arange(start, stop=None, step=1, dtype=None)\n",
    "- range() but step can take decimals"
   ]
  },
  {
   "cell_type": "markdown",
   "id": "f84ad6cb-b9fe-4bd0-8ef9-02f60ce3e57f",
   "metadata": {
    "tags": []
   },
   "source": [
    "## Calculus\n",
    "### Tangent Line\n",
    "- Created by drawing a line between 2 infinitely close points on a curve to get the instantaneous slope at that point\n",
    "\n",
    "### Derivative\n",
    "- Slope of the tangent line. Gives us the instantaneous rate of change for x. \n",
    "- This concept helps determine the effect of a specific weight/bias on the loss function given a sample.\n",
    "\n",
    "### Numerical Differentiation/Numerical Derivative\n",
    "- Calculating the slope of a tangent line using two infinitely close points"
   ]
  },
  {
   "cell_type": "code",
   "execution_count": 56,
   "id": "1be75755-28de-4dde-ae3b-75d7863ff088",
   "metadata": {
    "tags": []
   },
   "outputs": [
    {
     "data": {
      "text/plain": [
       "8.000199999998785"
      ]
     },
     "execution_count": 56,
     "metadata": {},
     "output_type": "execute_result"
    }
   ],
   "source": [
    "def f(x):\n",
    "    return 2 * x**2\n",
    "\n",
    "# change from x1 to x2\n",
    "# choose a really small point that will still keep things numerically stable\n",
    "p2_delta = 0.0001\n",
    "\n",
    "x1 = 2\n",
    "x2 = x1 + p2_delta\n",
    "\n",
    "y1 = f(x1)\n",
    "y2 = f(x2)\n",
    "\n",
    "# get the derivative/slope\n",
    "approximate_derivative = (y2 - y1)/(x2 - x1)\n",
    "approximate_derivative"
   ]
  },
  {
   "cell_type": "code",
   "execution_count": 57,
   "id": "9eead2c8-14c9-4514-832a-343ef2c9d56f",
   "metadata": {
    "tags": []
   },
   "outputs": [
    {
     "data": {
      "text/plain": [
       "-8.00039999999757"
      ]
     },
     "execution_count": 57,
     "metadata": {},
     "output_type": "execute_result"
    }
   ],
   "source": [
    "# get y intercept of tangent like with 2 points and the slope\n",
    "b = y2 - approximate_derivative * x2\n",
    "b"
   ]
  },
  {
   "cell_type": "code",
   "execution_count": 58,
   "id": "4862a5e2-e0f9-45a2-b854-ef09718b8d7f",
   "metadata": {
    "tags": []
   },
   "outputs": [],
   "source": [
    "def tangent_line(x):\n",
    "    return approximate_derivative * x + b"
   ]
  },
  {
   "cell_type": "code",
   "execution_count": 59,
   "id": "ebb3d08a-9bb7-4b45-bf70-bc3d149b6da9",
   "metadata": {
    "tags": []
   },
   "outputs": [
    {
     "data": {
      "image/png": "[encoded data removed]",
      "text/plain": [
       "<Figure size 640x480 with 1 Axes>"
      ]
     },
     "metadata": {},
     "output_type": "display_data"
    }
   ],
   "source": [
    "# arange gives a smooth line\n",
    "x = np.arange(0, 5, 0.001)\n",
    "y = f(x)\n",
    "plt.plot(x, y)\n",
    "\n",
    "to_plot = [x1 - 0.9, x1, x1 + 0.9]\n",
    "plt.plot(to_plot, [tangent_line(i) for i in to_plot])\n",
    "plt.title(f\"Approx Derivative for f(x) where x = {x1} is {approximate_derivative}\")\n",
    "plt.show()"
   ]
  },
  {
   "cell_type": "code",
   "execution_count": 60,
   "id": "4f063f00-8488-46c3-9f54-02d8d8beeda2",
   "metadata": {
    "tags": []
   },
   "outputs": [
    {
     "data": {
      "image/png": "[encoded data removed]",
      "text/plain": [
       "<Figure size 640x480 with 1 Axes>"
      ]
     },
     "metadata": {},
     "output_type": "display_data"
    }
   ],
   "source": [
    "# arange gives a smooth line\n",
    "x = np.arange(0, 5, 0.001)\n",
    "y = f(x)\n",
    "plt.plot(x, y)\n",
    "colors = ['k', 'g', 'r', 'b', 'c']\n",
    "\n",
    "def approximate_tangent_line(x, approximate_derivative):\n",
    "    return (approximate_derivative * x) + b\n",
    "\n",
    "for i in range(5):\n",
    "    p2_delta = 0.0001\n",
    "\n",
    "    x1 = i\n",
    "    x2 = x1 + p2_delta\n",
    "\n",
    "    y1 = f(x1)\n",
    "    y2 = f(x2)\n",
    "\n",
    "    approximate_derivative = (y2 - y1)/(x2 - x1)\n",
    "    b = y2 - approximate_derivative * x2\n",
    "    \n",
    "    to_plot = [x1 - 0.9, x1, x1 + 0.9]\n",
    "    \n",
    "    plt.scatter(x1, y1, c=colors[i])\n",
    "    plt.plot([point for point in to_plot], \n",
    "             [approximate_tangent_line(point, approximate_derivative) \n",
    "              for point in to_plot])\n",
    "    plt.title(f\"Approx Derivative for f(x) where x = {x1} is {approximate_derivative}\")\n",
    "plt.show()"
   ]
  },
  {
   "cell_type": "markdown",
   "id": "522f6456-91c9-47f0-bf29-0e055e7d8f4b",
   "metadata": {},
   "source": [
    "### Analytical Derivative\n",
    "- Derivative of a constant multiple of a function equals the constant multiple of the function's derivative\n",
    "    - $\\frac{d}{dx}[k * f(x)] = k * \\frac{d}{dx}f(x)$\n",
    "    - $\\frac{d}{dx}2x = 2 * \\frac{d}{dx}x$\n",
    "- Derivative of sum/difference of an operation is the sum/difference of the derivatives\n",
    "    - $f(x) = 3x^2 + 5x$ &rarr;  $\\frac{d}{dx}f(x) = \\frac{d}{dx}[3x^2 + 5x] = \\frac{d}{dx}3x^2 + \\frac{d}{dx}5x] = 3 *\\frac{d}{dx}x^2 + 5 *\\frac{d}{dx}x = 3 * 2x^{2-1} + 5 * x^{1-1} = 3 * 2x + 5* x^0 = 6x + 5$\n",
    "    - Same with subtraction\n",
    "- Derivative rulee of an exponentiation\n",
    "    - $\\frac{d}{dx}x^n = n * x^{n-1}$\n",
    "- Derivative of a constant is 0 (slope of a point is 0)\n",
    "    - $f(x) = 1$\n",
    "    - Prime Notation: $f'(x) = 0$\n",
    "    - Leibniz's Notation: $\\frac{df(x)}{dx} = 0$\n",
    "- Derivative of x is 1\n",
    "    - $f(x) = x$  &rarr; $\\frac{d}{dx}f(x) = \\frac{d}{dx}x = \\frac{d}{dx}x^1 = 1 * x^{1-1} = x^0 = 1$\n",
    "- Derivative of a linear function is the slope\n",
    "    - $f(x) = 2x$ &rarr;  $\\frac{d}{dx}f(x) = \\frac{d}{dx}2x = 2 *\\frac{d}{dx}x = 2 * x^{1-1} = 2 * 1x^0 = 2 * 1 * 1 = 2$\n",
    "- Derivative of a quadratic function\n",
    "    - Subtract 1 from the exponent\n",
    "    - $f(x) = 3x^2$ &rarr;  $\\frac{d}{dx}f(x) = \\frac{d}{dx}3x^2 = 3 *\\frac{d}{dx}x^2 = 3 * 2x^{2-1} = 3 * 2x = 6x$"
   ]
  },
  {
   "cell_type": "markdown",
   "id": "1ba28296-46f6-4c61-b1d0-dfeefc17d32e",
   "metadata": {},
   "source": [
    "### Derivative vs Partial Derivative\n",
    "- A derivative ($d$) calculates the rate of change of a ***single-variable*** function with respect to its input.\n",
    "- A partial derivative ($\\partial$) calculates the rate of change of a ***multi-variable*** function with respect to one of its inputs, while holding all other inputs constant. \n",
    "\n",
    "### The Partial Derivative\n",
    "- How much a single input has impacts a function's output while treating all other inputs as constants. Measures just that inputs effect.\n",
    "- For an array of inputs into a neuron we calculate the partial derivative of each input to figure out the effect of each input on the output in order to update the weights/biases to minimize loss.\n",
    "\n",
    "#### Euler's notation\n",
    " - $f(x,y,z)$ &rarr; $\\frac{\\partial}{\\partial x}f(x,y,z), \\frac{\\partial}{\\partial y}f(x,y,z), \\frac{\\partial}{\\partial z}f(x,y,z)$\n",
    "\n",
    "#### Partial Derivative of a Sum\n",
    "- The partial derivative of the sum with respect to any input = 1\n",
    "- $f(x,y) = x + y$\n",
    "    - $\\frac{\\partial}{\\partial x}f(x,y) = 1$\n",
    "    - $\\frac{\\partial}{\\partial y}f(x,y) = 1$\n",
    "- Calculate for one input and sub other inputs for 1 (constant)\n",
    "- $f(x,y) = 2x + 3y^2$ &rarr; \n",
    "    - $\\frac{\\partial}{\\partial x}f(x,y) = \\frac{\\partial}{\\partial x}[2x + 3y^2] = \\frac{\\partial}{\\partial x}2x + \\frac{\\partial}{\\partial x}3y^2 = 2 * \\frac{\\partial}{\\partial x}x + 3 * \\frac{\\partial}{\\partial x}y^2 = 2 * 1 + (3 * 0) = 2$\n",
    "    - $\\frac{\\partial}{\\partial y}f(x,y) = \\frac{\\partial}{\\partial y}[2x + 3y^2] = \\frac{\\partial}{\\partial y}2x + \\frac{\\partial}{\\partial y}3y^2 = 2 * \\frac{\\partial}{\\partial y}x + 3 * \\frac{\\partial}{\\partial y}y^2 = 2 * 0 + (3 * 2y) = 6y$\n",
    "- $f(x,y) = 3x^3 - y^2 + 5x + 2$ &rarr; \n",
    "    - $\\frac{\\partial}{\\partial x}f(x,y) = \\frac{\\partial}{\\partial x}[3x^3 - y^2 + 5x + 2] = \\frac{\\partial}{\\partial x}3x^3 - \\frac{\\partial}{\\partial x}y^2 + \\frac{\\partial}{\\partial x}5x + \\frac{\\partial}{\\partial x}2 = 3 * \\frac{\\partial}{\\partial x}x^3 - \\frac{\\partial}{\\partial x}y^2 + 5 * \\frac{\\partial}{\\partial x}x + \\frac{\\partial}{\\partial x}2 = 3 * 3x^2 - 0 + 5 * 1 + 0 = 9x^2 + 5$\n",
    "    - $\\frac{\\partial}{\\partial y}f(x,y) = \\frac{\\partial}{\\partial y}[3x^3 - y^2 + 5x + 2] = \\frac{\\partial}{\\partial y}3x^3 - \\frac{\\partial}{\\partial y}y^2 + \\frac{\\partial}{\\partial y}5x + \\frac{\\partial}{\\partial y}2 = 3 * \\frac{\\partial}{\\partial y}x^3 - \\frac{\\partial}{\\partial y}y^2 + 5 * \\frac{\\partial}{\\partial y}x + \\frac{\\partial}{\\partial y}2 = 3 * 0 - 2y + 5 * 0 + 0 = -2y$\n",
    "\n",
    "#### Partial Derivative of Multiplication\n",
    "- Partial Derivative of multiplication operation with 2 inputs with respect to any input equals the other input\n",
    "- $f(x,y) = x * y$\n",
    "    - $\\frac{\\partial}{\\partial x}f(x,y) = y$\n",
    "    - $\\frac{\\partial}{\\partial y}f(x,y) = x$\n",
    "- $f(x,y,z) = 3x^3z - y^2 + 5z + 2yz$ &rarr; \n",
    "    - $\\frac{\\partial}{\\partial x}f(x,y,z)$ &rarr; $\\frac{\\partial}{\\partial x}3x^3z - \\frac{\\partial}{\\partial x}y^2 + \\frac{\\partial}{\\partial x}5z + \\frac{\\partial}{\\partial x}2yz = 9x^2z$\n",
    "    - $\\frac{\\partial}{\\partial y}f(x,y,z)$ &rarr; $\\frac{\\partial}{\\partial y}3x^3z - \\frac{\\partial}{\\partial y}y^2 + \\frac{\\partial}{\\partial y}5z + \\frac{\\partial}{\\partial y}2yz = -2y + 2z$\n",
    "    - $\\frac{\\partial}{\\partial z}f(x,y,z)$ &rarr; $\\frac{\\partial}{\\partial z}3x^3z - \\frac{\\partial}{\\partial z}y^2 + \\frac{\\partial}{\\partial z}5z + \\frac{\\partial}{\\partial z}2yz = 3x^3 + 5 + 2y$\n",
    "\n",
    "#### Partial Derivative of *Max*\n",
    "- Partial Derivative of max function of 2 variables with respect to any of them is 1 if this variable is the max, else 0\n",
    "- $f(x,y) = max(x,y)$\n",
    "    - $\\frac{\\partial}{\\partial x}f(x,y) = 1(x>y)$\n",
    "- Partial Derivative of max function of a single variable and 0 1 if this variable is greater than 0, else 0\n",
    "    - $\\frac{\\partial}{\\partial x}f(x) = 1(x>0)$\n",
    "- $f(x,y) = max(x,0)$\n",
    "    - $\\frac{\\partial}{\\partial x}f(x,y) = 1(x>y)$\n",
    "- Calculate the derivative of the ReLU Activation Function since it returns x (input) if x > 0 else 0. (*max(0, input)*)\n",
    "- $f(x,y) = max(x,y)$ &rarr; $\\frac{\\partial}{\\partial x}f(x,y) = \\frac{\\partial}{\\partial x}max(x,y) = 1(x>y)$\n",
    "    - $1(x>y)$: $\\frac{\\partial}{\\partial x} = 1$ if $x > y$ else $0$\n",
    "\n",
    "### Gradient\n",
    "- The Gradient is a vector of all possible partial derivatives\n",
    "- $\\triangledown f(x,y,z) = \\begin{bmatrix} \\frac{\\partial}{\\partial x}f(x,y,z) \\\\ \n",
    "                                            \\frac{\\partial}{\\partial y}f(x,y,z) \\\\\n",
    "                                            \\frac{\\partial}{\\partial z}f(x,y,z) \\\\\n",
    "                                            \\end{bmatrix} = \n",
    "                                            \\begin{bmatrix} \n",
    "                                            \\frac{\\partial}{\\partial x} \\\\ \n",
    "                                            \\frac{\\partial}{\\partial y} \\\\\n",
    "                                            \\frac{\\partial}{\\partial z} \\\\\n",
    "                                            \\end{bmatrix} f(x,y,z)$\n",
    "- Vector the size of the inputs containing partial derivative solutions with respect to each of the inputs\n",
    "- $\\triangledown$ = nabla\n",
    "- $\\triangledown f(x,y,z) = \\begin{bmatrix} \\frac{\\partial}{\\partial x}f(x,y,z) \\\\ \n",
    "                                            \\frac{\\partial}{\\partial y}f(x,y,z) \\\\\n",
    "                                            \\frac{\\partial}{\\partial z}f(x,y,z) \\\\\n",
    "                                            \\end{bmatrix} = \n",
    "                                            \\begin{bmatrix} \n",
    "                                            \\frac{\\partial}{\\partial x} \\\\ \n",
    "                                            \\frac{\\partial}{\\partial y} \\\\\n",
    "                                            \\frac{\\partial}{\\partial z} \\\\\n",
    "                                            \\end{bmatrix} f(x,y,z) = \n",
    "                                            \\begin{bmatrix} \n",
    "                                            9x^2z \\\\\n",
    "                                            -2y + 2z \\\\\n",
    "                                            3x^3 + 5 + 2y\n",
    "                                            \\end{bmatrix}$\n",
    "                                            \n",
    "### The Chain Rule\n",
    "- The derivative of a function chain is a product of derivatives of all of the subsequent nested functions in this chain.\n",
    "- The derivative of the outer function with respect to the inner function for each\n",
    "- Derivative: $\\frac{d}{dx}f(g(x)) = \\frac{df(g(x))}{dg(x)} * \\frac{dg(x)}{dx} = f'(g(x)) * g'(x) $\n",
    "- Partial Derivative of chain functions: \n",
    "- Partial Derivative: $\\frac{\\partial}{\\partial x}f(g(y, h(x,z))) = \\frac{\\partial f(g(y, h(x,z)))}{\\partial g(y,h(x,z))} * \\frac{\\partial g(y, h(x,z))}{\\partial h(x,z))} * \\frac{\\partial h(x,z)}{\\partial x)}$\n",
    "- $h(x) = f(g(x)) = 3(2x^2)^5 $ &rarr; $(3 * 5(2x^2)^4) * (4x) = 15(16x^8) * 4x = 240x^8 * 4x = 960x^9$"
   ]
  },
  {
   "cell_type": "markdown",
   "id": "552a654e-6bbd-4401-b081-c7dc48993039",
   "metadata": {},
   "source": [
    "## Backpropagation\n",
    "- Propagates the error backward through the network layer by layer against the direction of the forward pass\n",
    "- For each layer the algorithm calculates the partial derivates of the loss function with respect to the weights and biases of that layer. \n",
    "    - These indicate how much each weight & bias contributed to the overall error\n",
    "- The algorithm then updates the weights & biases using information from the partial derivatives and a learning rate\n",
    "- Learning Rate - a smalle value controlling step size\n",
    "- This process is repeated and the network improves it's performance\n",
    "\n",
    "- Single Neuron Example:\n",
    "    - $y = ReLU(sum(mul(x_0, w_0), mul(x_1, w_1), mul(x_2, w_2), b))$\n",
    "        - 3 nested functions - chain rule to get derivative of equation\n",
    "    - Derivative with respect to input 0: \n",
    "        - $\\frac{\\partial}{\\partial x_0}[ReLU(sum(mul(x_0, w_0), mul(x_1, w_1), mul(x_2, w_2), b))]$ =\n",
    "\n",
    "        - $\\frac{dReLU(sum(mul(x_0, w_0), mul(x_1, w_1), mul(x_2, w_2), b))}{\\partial sum(mul(x_0, w_0), mul(x_1, w_1), mul(x_2, w_2), b)}$ * $\\frac{\\partial sum(mul(x_0, w_0), mul(x_1, w_1), mul(x_2, w_2), b)}{\\partial mul(x_0, w_0)}$ * $\\frac{\\partial mul(x_0, w_0)}{\\partial x_0}$\n",
    "\n",
    "    - Derivative with respect to weight 0:\n",
    "    - $\\frac{\\partial}{\\partial w_0}[ReLU(sum(mul(x_0, w_0), mul(x_1, w_1), mul(x_2, w_2), b))]$ =\n",
    "\n",
    "        - $\\frac{dReLU(sum(mul(x_0, w_0), mul(x_1, w_1), mul(x_2, w_2), b))}{\\partial sum(mul(x_0, w_0), mul(x_1, w_1), mul(x_2, w_2), b)}$ * $\\frac{\\partial sum(mul(x_0, w_0), mul(x_1, w_1), mul(x_2, w_2), b)}{\\partial mul(x_0, w_0)}$ * $\\frac{\\partial mul(x_0, w_0)}{\\partial w_0}$\n",
    "\n",
    "\n",
    "    - Derivative with respect to bias:\n",
    "        - $\\frac{\\partial}{\\partial b}[ReLU(sum(mul(x_0, w_0), mul(x_1, w_1), mul(x_2, w_2), b))]$ =\n",
    "\n",
    "        - $\\frac{dReLU(sum(mul(x_0, w_0), mul(x_1, w_1), mul(x_2, w_2), b))}{\\partial sum(mul(x_0, w_0), mul(x_1, w_1), mul(x_2, w_2), b)}$ * $\\frac{\\partial sum(mul(x_0, w_0), mul(x_1, w_1), mul(x_2, w_2), b)}{b}$\n",
    "        \n",
    "### Derivative of the loss function        \n",
    "- If we want to know the impact to the loss of a change in weight or bias we must get the derivative of the loss function with respect to the weight or bias. \n",
    "    - This means means applying the chain rule, which says the derivative of a chained function is equal to the product of the partial derivative of each function in the chain, to each sub-function of the loss function. \n",
    "    - The partial derivative calculates the impact of a single input in a function, treating all other inputs as constants to isolate the input of interest.\n",
    "\n",
    "### Input Derivative\n",
    "- The derivative of the input is used to chain more layers by passing them to the previous function in the chain"
   ]
  },
  {
   "cell_type": "code",
   "execution_count": 61,
   "id": "bcfe8a4a-6514-4c2f-b290-0aab811de7d7",
   "metadata": {},
   "outputs": [],
   "source": [
    "# inputs\n",
    "x = [1.0, -2.0, 3.0]\n",
    "\n",
    "# weights\n",
    "w = [-3.0, -1.0, 2.0]\n",
    "\n",
    "# bias\n",
    "b = 1.0\n",
    "\n",
    "# Linear Combination\n",
    "z = np.dot(x, np.asarray(w)) + b # 6.0\n",
    "\n",
    "# ReLU Activation Function\n",
    "y = max(z, 0)"
   ]
  },
  {
   "cell_type": "markdown",
   "id": "a36595a0-d749-45a2-8689-65279c7f14fc",
   "metadata": {},
   "source": [
    "#### Example \n",
    "0. $ ReLU(sum(mul(x_0, w_0), mul(x_1, w_1), mul(x_2, w_2), b)) $\n",
    "1. Derivative of next layer would be fed into current layer to multiply for chain rule\n",
    "    - This is the gradient backpropagated to the current layer"
   ]
  },
  {
   "cell_type": "code",
   "execution_count": 62,
   "id": "e351a15b-5597-4c20-a82c-6a3e6e09c3e2",
   "metadata": {
    "tags": []
   },
   "outputs": [],
   "source": [
    "# Derivative of the next layer (simulated)\n",
    "dnext_layer = 1.0"
   ]
  },
  {
   "cell_type": "markdown",
   "id": "d7c1703b-4c18-40c8-b9c8-920deebc5d02",
   "metadata": {},
   "source": [
    "2. Derivative of Activation Function output\n",
    "- $dMax(output, 0)$\n",
    "- For ReLU: Derivative of a max() function with respect to a value is is 1 if the value is greated than 0, else 0"
   ]
  },
  {
   "cell_type": "code",
   "execution_count": 63,
   "id": "d8aa338d-c196-44fe-adc8-aa79cbe50242",
   "metadata": {
    "tags": []
   },
   "outputs": [
    {
     "data": {
      "text/plain": [
       "1.0"
      ]
     },
     "execution_count": 63,
     "metadata": {},
     "output_type": "execute_result"
    }
   ],
   "source": [
    "# Derivative of ReLU with respect to output (z)\n",
    "# dmax(x) == x ? x > 1 : 0\n",
    "relu_dz = (1.0 if z > 0 else 0.0)\n",
    "relu_dz"
   ]
  },
  {
   "cell_type": "markdown",
   "id": "18848f29-8d62-44fa-aea1-58c14f1a939f",
   "metadata": {},
   "source": [
    "3. Chain Rule: Multiply next layer & current layer"
   ]
  },
  {
   "cell_type": "code",
   "execution_count": 64,
   "id": "2086efd7-0dfc-4eff-be3d-f63ca1763c8e",
   "metadata": {
    "tags": []
   },
   "outputs": [],
   "source": [
    "# Derivative of ReLU and next layer (chain rule)\n",
    "drelu_dz = dnext_layer * relu_dz"
   ]
  },
  {
   "cell_type": "markdown",
   "id": "80c467f5-9590-4963-ae3a-7da9d022f64f",
   "metadata": {},
   "source": [
    "4. Partial Derivative of sum with respect to each input/weight pair & the bias\n",
    "- multiplied by derivative of ReLU per chain rule\n",
    "- $\\frac{\\partial sum(mul(x_0, w_0), mul(x_1, w_1), mul(x_2, w_2), b)}{\\partial mul(x_0, w_0)}$"
   ]
  },
  {
   "cell_type": "code",
   "execution_count": 65,
   "id": "81f21ed9-9387-40dc-a991-2ea343000a74",
   "metadata": {
    "tags": []
   },
   "outputs": [
    {
     "data": {
      "text/plain": [
       "1.0"
      ]
     },
     "execution_count": 65,
     "metadata": {},
     "output_type": "execute_result"
    }
   ],
   "source": [
    "# partial derivative of sum() with respect to w0,x0 - weighted input of x for the 0th input/weight pair\n",
    "# partial derivative of a sum is always 1\n",
    "dsum_dxw0 = 1\n",
    "# partial derivative of ReLU with respect to w0,x0\n",
    "drelu_dxw0 = drelu_dz * dsum_dxw0\n",
    "drelu_dxw0"
   ]
  },
  {
   "cell_type": "markdown",
   "id": "4716ed95-d540-4c3c-8e5a-04d19bdcc090",
   "metadata": {},
   "source": [
    "$\\frac{\\partial sum(mul(x_0, w_0), mul(x_1, w_1), mul(x_2, w_2), b)}{\\partial mul(x_1, w_1)}$"
   ]
  },
  {
   "cell_type": "code",
   "execution_count": 66,
   "id": "e56d9e5e-dbe7-44d8-aee1-7ffd1b522596",
   "metadata": {
    "tags": []
   },
   "outputs": [
    {
     "data": {
      "text/plain": [
       "1.0"
      ]
     },
     "execution_count": 66,
     "metadata": {},
     "output_type": "execute_result"
    }
   ],
   "source": [
    "# partial derivative of sum() with respect to w1,x1 \n",
    "dsum_dxw1 = 1\n",
    "# partial derivative of ReLU with respect to w1,x1\n",
    "drelu_dxw1 = drelu_dz * dsum_dxw1\n",
    "drelu_dxw1"
   ]
  },
  {
   "cell_type": "markdown",
   "id": "cb43be01-d677-41c5-b2e6-8d88ea39375d",
   "metadata": {},
   "source": [
    "$\\frac{\\partial sum(mul(x_0, w_0), mul(x_1, w_1), mul(x_2, w_2), b)}{\\partial mul(x_2, w_2)}$"
   ]
  },
  {
   "cell_type": "code",
   "execution_count": 67,
   "id": "0592bf8a-02b3-49ef-89ad-639623d92261",
   "metadata": {
    "tags": []
   },
   "outputs": [
    {
     "data": {
      "text/plain": [
       "1.0"
      ]
     },
     "execution_count": 67,
     "metadata": {},
     "output_type": "execute_result"
    }
   ],
   "source": [
    "# partial derivative of sum() with respect to w2,x2\n",
    "dsum_dxw2 = 1\n",
    "# partial derivative of ReLU with respect to w2,x2\n",
    "drelu_dxw2 = drelu_dz * dsum_dxw2\n",
    "drelu_dxw2"
   ]
  },
  {
   "cell_type": "markdown",
   "id": "7dabf4e8-d1da-4f17-a001-22dd18f69c68",
   "metadata": {},
   "source": [
    "$\\frac{\\partial sum(mul(x_0, w_0), mul(x_1, w_1), mul(x_2, w_2), b)}{\\partial b}$"
   ]
  },
  {
   "cell_type": "code",
   "execution_count": 68,
   "id": "158be2a9-7346-41c0-8623-58f148d08876",
   "metadata": {
    "tags": []
   },
   "outputs": [
    {
     "data": {
      "text/plain": [
       "1.0"
      ]
     },
     "execution_count": 68,
     "metadata": {},
     "output_type": "execute_result"
    }
   ],
   "source": [
    "# partial derivative of sum() with respect to bias\n",
    "dsum_db = 1\n",
    "# partial derivative of ReLU with respect to bias\n",
    "drelu_db = drelu_dz * dsum_db\n",
    "drelu_db"
   ]
  },
  {
   "cell_type": "markdown",
   "id": "e209cec7-02f9-4490-a08e-3a2497ebdb99",
   "metadata": {},
   "source": [
    "5. Partial Derivative of each mul(x,w) with respect to each of input and weight & multiply per chain rule\n",
    "- Partial derivative of multiplication: \n",
    "    - $\\frac{\\partial mul(x_0, w_0)}{\\partial x_0}= w_0$ \n",
    "    - $\\frac{\\partial mul(x_0, w_0)}{\\partial w_0}= x_0$ "
   ]
  },
  {
   "cell_type": "markdown",
   "id": "e9c8a752-349d-40c2-b747-820c97b819f0",
   "metadata": {},
   "source": [
    "$\\frac{\\partial mul(x_0, w_0)}{\\partial x_0}$"
   ]
  },
  {
   "cell_type": "code",
   "execution_count": 69,
   "id": "c6129707-982a-4685-a813-14c2b30b2e4b",
   "metadata": {},
   "outputs": [
    {
     "data": {
      "text/plain": [
       "-3.0"
      ]
     },
     "execution_count": 69,
     "metadata": {},
     "output_type": "execute_result"
    }
   ],
   "source": [
    "dmul_dx0 = w[0]\n",
    "drelu_dx0 = dmul_dx0 * drelu_dxw0\n",
    "drelu_dx0"
   ]
  },
  {
   "cell_type": "markdown",
   "id": "ac412b0b-5e39-4092-8a13-1174fcd054e2",
   "metadata": {},
   "source": [
    "$\\frac{\\partial mul(x_0, w_0)}{\\partial w_0}$"
   ]
  },
  {
   "cell_type": "code",
   "execution_count": 70,
   "id": "533a5a59-2277-4196-b6df-d6903ee83c04",
   "metadata": {},
   "outputs": [
    {
     "data": {
      "text/plain": [
       "1.0"
      ]
     },
     "execution_count": 70,
     "metadata": {},
     "output_type": "execute_result"
    }
   ],
   "source": [
    "dmul_dw0 = x[0]\n",
    "drelu_dw0 = dmul_dw0 * drelu_dxw0\n",
    "drelu_dw0"
   ]
  },
  {
   "cell_type": "markdown",
   "id": "0ebf7947-1bca-48d9-8c14-98e21e97aa7e",
   "metadata": {},
   "source": [
    "$\\frac{\\partial mul(x_0, w_0)}{\\partial x_1}$"
   ]
  },
  {
   "cell_type": "code",
   "execution_count": 71,
   "id": "6aa7da13-5d48-4977-804f-5ee36cec7656",
   "metadata": {},
   "outputs": [
    {
     "data": {
      "text/plain": [
       "-1.0"
      ]
     },
     "execution_count": 71,
     "metadata": {},
     "output_type": "execute_result"
    }
   ],
   "source": [
    "dmul_dx1 = w[1]\n",
    "drelu_dx1 = dmul_dx1 * drelu_dxw1\n",
    "drelu_dx1"
   ]
  },
  {
   "cell_type": "markdown",
   "id": "5ebf29d7-cd9b-4955-b8c7-05bc31c04519",
   "metadata": {},
   "source": [
    "$\\frac{\\partial mul(x_0, w_0)}{\\partial w_1}$"
   ]
  },
  {
   "cell_type": "code",
   "execution_count": 72,
   "id": "e97463e2-3d82-4da0-8cd5-4932570e94de",
   "metadata": {},
   "outputs": [
    {
     "data": {
      "text/plain": [
       "-2.0"
      ]
     },
     "execution_count": 72,
     "metadata": {},
     "output_type": "execute_result"
    }
   ],
   "source": [
    "dmul_dw1 = x[1]\n",
    "drelu_dw1 = dmul_dw1 * drelu_dxw1\n",
    "drelu_dw1"
   ]
  },
  {
   "cell_type": "markdown",
   "id": "770effdc-fcf7-46d1-8536-db2702ada1b8",
   "metadata": {},
   "source": [
    "$\\frac{\\partial mul(x_0, w_0)}{\\partial x_2}$"
   ]
  },
  {
   "cell_type": "code",
   "execution_count": 73,
   "id": "cce4e3e2-5c49-4926-bcff-7c94dca4cf73",
   "metadata": {},
   "outputs": [
    {
     "data": {
      "text/plain": [
       "2.0"
      ]
     },
     "execution_count": 73,
     "metadata": {},
     "output_type": "execute_result"
    }
   ],
   "source": [
    "dmul_dx2 = w[2]\n",
    "drelu_dx2 = dmul_dx2 * drelu_dxw2\n",
    "drelu_dx2"
   ]
  },
  {
   "cell_type": "markdown",
   "id": "d2346c11-7023-4bd4-8e7e-1e99c1f0bf48",
   "metadata": {},
   "source": [
    "$\\frac{\\partial mul(x_0, w_0)}{\\partial w_2}$"
   ]
  },
  {
   "cell_type": "code",
   "execution_count": 74,
   "id": "0211f52d-fa65-4e5c-8761-753623eb6807",
   "metadata": {},
   "outputs": [
    {
     "data": {
      "text/plain": [
       "3.0"
      ]
     },
     "execution_count": 74,
     "metadata": {},
     "output_type": "execute_result"
    }
   ],
   "source": [
    "dmul_dw2 = x[2]\n",
    "drelu_dw2 = dmul_dw2 * drelu_dxw2\n",
    "drelu_dw2"
   ]
  },
  {
   "cell_type": "code",
   "execution_count": 75,
   "id": "959a004d-7294-424f-b554-fb853a04feef",
   "metadata": {},
   "outputs": [
    {
     "data": {
      "text/plain": [
       "3.0"
      ]
     },
     "execution_count": 75,
     "metadata": {},
     "output_type": "execute_result"
    }
   ],
   "source": [
    "dmul_dw2 = x[2]\n",
    "drelu_dw2 = dmul_dw2 * drelu_dxw2\n",
    "drelu_dw2"
   ]
  },
  {
   "cell_type": "markdown",
   "id": "3fc0a05f-c5f9-484b-8a21-60d2ef0e790d",
   "metadata": {},
   "source": [
    "6. Partial Derivative of bias is constant - so 1"
   ]
  },
  {
   "cell_type": "markdown",
   "id": "42ca5da8-6f93-4f1e-a67b-467393c97e25",
   "metadata": {},
   "source": [
    "#### Gradients\n",
    "- Input Gradient (dx) is backpropagated to the preceding layer"
   ]
  },
  {
   "cell_type": "code",
   "execution_count": 76,
   "id": "cfdd7a15-0bfc-4534-8a9d-ee6e96dbdb2e",
   "metadata": {
    "tags": []
   },
   "outputs": [],
   "source": [
    "dx = [drelu_dx0, drelu_dx1, drelu_dx2]\n",
    "dw = [drelu_dw0, drelu_dw1, drelu_dw2]\n",
    "db = drelu_db  "
   ]
  },
  {
   "cell_type": "markdown",
   "id": "5ab83742-25c7-4814-8ac4-fca681ffb3ab",
   "metadata": {},
   "source": [
    "#### Example for a Layer"
   ]
  },
  {
   "cell_type": "markdown",
   "id": "161d8b31-dc22-4bee-916c-dda1292351af",
   "metadata": {},
   "source": [
    "* Partial derivative of input is the paired weight\n",
    "    - The array of partial derivatives with respect to input = the array of weights\n",
    "    - Weight array is transposed, so we must sum rows instead of columns\n",
    "\n",
    "* Example when getting gradient of multiple neurons"
   ]
  },
  {
   "cell_type": "code",
   "execution_count": 77,
   "id": "a0cbac72-135c-485b-970b-f3a36632453f",
   "metadata": {
    "tags": []
   },
   "outputs": [
    {
     "data": {
      "text/plain": [
       "array([ 0.44, -0.38, -0.07,  1.37])"
      ]
     },
     "execution_count": 77,
     "metadata": {},
     "output_type": "execute_result"
    }
   ],
   "source": [
    "# Gradient from the next layer (derivatives)\n",
    "dvalues = np.array([[1., 1., 1.]])\n",
    "\n",
    "# 3 weight sets - 3 neurons\n",
    "# 4 inputs, so 4 weights per set\n",
    "# weights are already transposed from doing the dot product of inputs/weights\n",
    "weights = np.array([[0.2, 0.8, -0.5, 1.0],\n",
    "                    [0.5, -0.91, 0.26, -0.5],\n",
    "                    [-0.26, -0.27, 0.17, 0.87]]).T\n",
    "\n",
    "# sum of weights for input * passed in gradient for this neuron\n",
    "# Have to transpose the weights back\n",
    "dinputs = np.dot(dvalues[0], weights.T)\n",
    "dinputs"
   ]
  },
  {
   "cell_type": "code",
   "execution_count": 78,
   "id": "95aaa4b0-63fb-4de3-99f0-843bf95af92f",
   "metadata": {},
   "outputs": [
    {
     "data": {
      "text/plain": [
       "array([[ 0.5,  0.5,  0.5],\n",
       "       [20.1, 20.1, 20.1],\n",
       "       [10.9, 10.9, 10.9],\n",
       "       [ 5.1,  5.1,  5.1]])"
      ]
     },
     "execution_count": 78,
     "metadata": {},
     "output_type": "execute_result"
    }
   ],
   "source": [
    "# Gradient from the next layer (derivatives)\n",
    "dvalues = np.array([[1., 1., 1.],\n",
    "                    [2., 2., 2.],\n",
    "                    [3., 3., 3.]])\n",
    "\n",
    "# 3 weight sets - 3 neurons\n",
    "# 4 inputs, so 4 weights per set\n",
    "inputs = np.array([[1., 2., 3., 3.5],\n",
    "                   [2., 5., -1., 2.],\n",
    "                   [-1.5, 2.7, 3.3, -0.8]])\n",
    "\n",
    "# sum of weights for input * passed in gradient for this neuron\n",
    "dweights = np.dot(inputs.T, dvalues)\n",
    "dweights"
   ]
  },
  {
   "cell_type": "code",
   "execution_count": 80,
   "id": "a4f3641e-b0f4-4c62-a255-161260ef9e9e",
   "metadata": {
    "tags": []
   },
   "outputs": [
    {
     "data": {
      "text/plain": [
       "array([[ 1.5,  9.7,  5.3,  4.7],\n",
       "       [ 3. , 19.4, 10.6,  9.4],\n",
       "       [ 4.5, 29.1, 15.9, 14.1]])"
      ]
     },
     "execution_count": 80,
     "metadata": {},
     "output_type": "execute_result"
    }
   ],
   "source": [
    "np.dot(dvalues, inputs)"
   ]
  },
  {
   "cell_type": "code",
   "execution_count": null,
   "id": "07725d95-52fd-4914-8577-678e2df0c29f",
   "metadata": {},
   "outputs": [],
   "source": []
  }
 ],
 "metadata": {
  "kernelspec": {
   "display_name": "Python 3 (ipykernel)",
   "language": "python",
   "name": "python3"
  },
  "language_info": {
   "codemirror_mode": {
    "name": "ipython",
    "version": 3
   },
   "file_extension": ".py",
   "mimetype": "text/x-python",
   "name": "python",
   "nbconvert_exporter": "python",
   "pygments_lexer": "ipython3",
   "version": "3.11.5"
  }
 },
 "nbformat": 4,
 "nbformat_minor": 5
}
